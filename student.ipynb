{
 "cells": [
  {
   "cell_type": "markdown",
   "metadata": {},
   "source": [
    "![Plane Picture](./Images/new_file.png) \n",
    "\n",
    "# Aviation Enterprise Risk Analysis\n",
    "\n",
    "**Author:** Nelson Kamau\n",
    "\n",
    "## Project Overview.\n",
    "\n",
    "The company is expanding into aviation and needs to identify the lowest-risk aircraft for commercial and private operations. This analysis will assess accident data, survival rates, and key aircraft characteristics to guide data-driven acquisition decisions.\n",
    "\n",
    "The project will evaluate accident frequency over time and determine which aircraft models have the fewest incidents. Survival rates will be analyzed to assess safety during accidents, with comparisons based on aircraft make, model, engine type, and number of engines. Additional risk factors, such as amateur-built status and aircraft damage levels, will be examined to provide a comprehensive safety profile.\n",
    "\n",
    "Beyond the aircraft themselves, environmental and operational factors will also be considered. The impact of weather conditions and accident trends during different flight phases will offer deeper insights into potential risks.\n",
    "\n",
    "## Business Problem\n",
    "  The company is expanding in to new industries to diversify its portfolio. Specifically, they are interested in purchasing and operating airplanes for commercial and private enterprises, but do not know anything about the potential risks of aircraft. You are charged with determining which aircraft are the lowest risk for the company to start this new business endeavor. You must then translate your findings into actionable insights that the head of the new aviation division can use to help decide which aircraft to purchase."
   ]
  },
  {
   "cell_type": "markdown",
   "metadata": {},
   "source": [
    "## Data Description\n",
    "Dataset Description for Aviation Risk Analysis\n",
    "#### 1. Data Source and Relevance\n",
    "The dataset used in this project is a dataset from the National Transportation Safety Board , containing over 90,000 records of past aviation incidents. It includes details on the aircraft type, flight conditions, location, severity, and investigative conclusions. These data points are crucial in answering our research questions, as they allow us to identify patterns in aviation risks and assess aircraft safety.\n",
    "\n",
    "\n",
    "#### 2. What the Data Represent\n",
    "The dataset represents historical aviation accident reports, documenting incidents involving various aircraft models across different conditions. The sample includes both commercial and private flights, with records spanning multiple decades. Each row in the dataset corresponds to a single aviation incident, with key variables including:\n",
    "\n",
    "    Aircraft details: Model, manufacturer, number of engines, amateur-built status\n",
    "    Incident details: Date, location, phase of flight, severity of damage\n",
    "    Weather and environmental factors: Weather conditions at the time of the incident\n",
    "    Impact on passengers: Fatalities, injuries, survival rates\n",
    "    Investigative conclusions: Whether a probable cause was determined\n",
    "    \n",
    "\n",
    "#### 3. Target Variable\n",
    "Since the goal is to analyze aircraft safety and risk, multiple outcome variables will be used depending on the specific question that have been identified today:\n",
    "\n",
    "    Survival rate per aircraft model (to find low-risk aircraft)\n",
    "    Aircraft.damage (to determine aircraft loss probability)\n",
    "\n",
    "#### 4. Properties of Key Variables\n",
    "We will use a combination of categorical, numerical, and time-based variables:\n",
    "\n",
    "    Categorical Variables: Aircraft model, country, flight purpose, amateur-built status\n",
    "    Numerical Variables: Number of engines, total fatalities, total injuries\n",
    "    Date-Based Variables: Event date (to analyze seasonal trends)"
   ]
  },
  {
   "cell_type": "markdown",
   "metadata": {},
   "source": [
    "## Data Understanding"
   ]
  },
  {
   "cell_type": "code",
   "execution_count": 4,
   "metadata": {},
   "outputs": [],
   "source": [
    "import pandas as pd\n",
    "import numpy as np\n",
    "import matplotlib.pyplot as plt\n",
    "import seaborn as sns\n",
    "\n",
    "%matplotlib inline"
   ]
  },
  {
   "cell_type": "code",
   "execution_count": 5,
   "metadata": {},
   "outputs": [],
   "source": [
    "data_df=pd.read_csv('.\\data\\Aviation_Data.csv')\n",
    "data_df"
   ]
  },
  {
   "cell_type": "markdown",
   "metadata": {},
   "source": [
    "First we can get a glimpse of the data. look into the first 5 rows of the dataset."
   ]
  },
  {
   "cell_type": "code",
   "execution_count": 6,
   "metadata": {},
   "outputs": [
    {
     "data": {
      "text/html": [
       "<div>\n",
       "<style scoped>\n",
       "    .dataframe tbody tr th:only-of-type {\n",
       "        vertical-align: middle;\n",
       "    }\n",
       "\n",
       "    .dataframe tbody tr th {\n",
       "        vertical-align: top;\n",
       "    }\n",
       "\n",
       "    .dataframe thead th {\n",
       "        text-align: right;\n",
       "    }\n",
       "</style>\n",
       "<table border=\"1\" class=\"dataframe\">\n",
       "  <thead>\n",
       "    <tr style=\"text-align: right;\">\n",
       "      <th></th>\n",
       "      <th>Event.Id</th>\n",
       "      <th>Investigation.Type</th>\n",
       "      <th>Accident.Number</th>\n",
       "      <th>Event.Date</th>\n",
       "      <th>Location</th>\n",
       "      <th>Country</th>\n",
       "      <th>Latitude</th>\n",
       "      <th>Longitude</th>\n",
       "      <th>Airport.Code</th>\n",
       "      <th>Airport.Name</th>\n",
       "      <th>...</th>\n",
       "      <th>Purpose.of.flight</th>\n",
       "      <th>Air.carrier</th>\n",
       "      <th>Total.Fatal.Injuries</th>\n",
       "      <th>Total.Serious.Injuries</th>\n",
       "      <th>Total.Minor.Injuries</th>\n",
       "      <th>Total.Uninjured</th>\n",
       "      <th>Weather.Condition</th>\n",
       "      <th>Broad.phase.of.flight</th>\n",
       "      <th>Report.Status</th>\n",
       "      <th>Publication.Date</th>\n",
       "    </tr>\n",
       "  </thead>\n",
       "  <tbody>\n",
       "    <tr>\n",
       "      <th>0</th>\n",
       "      <td>20001218X45444</td>\n",
       "      <td>Accident</td>\n",
       "      <td>SEA87LA080</td>\n",
       "      <td>1948-10-24</td>\n",
       "      <td>MOOSE CREEK, ID</td>\n",
       "      <td>United States</td>\n",
       "      <td>NaN</td>\n",
       "      <td>NaN</td>\n",
       "      <td>NaN</td>\n",
       "      <td>NaN</td>\n",
       "      <td>...</td>\n",
       "      <td>Personal</td>\n",
       "      <td>NaN</td>\n",
       "      <td>2.0</td>\n",
       "      <td>0.0</td>\n",
       "      <td>0.0</td>\n",
       "      <td>0.0</td>\n",
       "      <td>UNK</td>\n",
       "      <td>Cruise</td>\n",
       "      <td>Probable Cause</td>\n",
       "      <td>NaN</td>\n",
       "    </tr>\n",
       "    <tr>\n",
       "      <th>1</th>\n",
       "      <td>20001218X45447</td>\n",
       "      <td>Accident</td>\n",
       "      <td>LAX94LA336</td>\n",
       "      <td>1962-07-19</td>\n",
       "      <td>BRIDGEPORT, CA</td>\n",
       "      <td>United States</td>\n",
       "      <td>NaN</td>\n",
       "      <td>NaN</td>\n",
       "      <td>NaN</td>\n",
       "      <td>NaN</td>\n",
       "      <td>...</td>\n",
       "      <td>Personal</td>\n",
       "      <td>NaN</td>\n",
       "      <td>4.0</td>\n",
       "      <td>0.0</td>\n",
       "      <td>0.0</td>\n",
       "      <td>0.0</td>\n",
       "      <td>UNK</td>\n",
       "      <td>Unknown</td>\n",
       "      <td>Probable Cause</td>\n",
       "      <td>19-09-1996</td>\n",
       "    </tr>\n",
       "    <tr>\n",
       "      <th>2</th>\n",
       "      <td>20061025X01555</td>\n",
       "      <td>Accident</td>\n",
       "      <td>NYC07LA005</td>\n",
       "      <td>1974-08-30</td>\n",
       "      <td>Saltville, VA</td>\n",
       "      <td>United States</td>\n",
       "      <td>36.9222</td>\n",
       "      <td>-81.8781</td>\n",
       "      <td>NaN</td>\n",
       "      <td>NaN</td>\n",
       "      <td>...</td>\n",
       "      <td>Personal</td>\n",
       "      <td>NaN</td>\n",
       "      <td>3.0</td>\n",
       "      <td>NaN</td>\n",
       "      <td>NaN</td>\n",
       "      <td>NaN</td>\n",
       "      <td>IMC</td>\n",
       "      <td>Cruise</td>\n",
       "      <td>Probable Cause</td>\n",
       "      <td>26-02-2007</td>\n",
       "    </tr>\n",
       "    <tr>\n",
       "      <th>3</th>\n",
       "      <td>20001218X45448</td>\n",
       "      <td>Accident</td>\n",
       "      <td>LAX96LA321</td>\n",
       "      <td>1977-06-19</td>\n",
       "      <td>EUREKA, CA</td>\n",
       "      <td>United States</td>\n",
       "      <td>NaN</td>\n",
       "      <td>NaN</td>\n",
       "      <td>NaN</td>\n",
       "      <td>NaN</td>\n",
       "      <td>...</td>\n",
       "      <td>Personal</td>\n",
       "      <td>NaN</td>\n",
       "      <td>2.0</td>\n",
       "      <td>0.0</td>\n",
       "      <td>0.0</td>\n",
       "      <td>0.0</td>\n",
       "      <td>IMC</td>\n",
       "      <td>Cruise</td>\n",
       "      <td>Probable Cause</td>\n",
       "      <td>12-09-2000</td>\n",
       "    </tr>\n",
       "    <tr>\n",
       "      <th>4</th>\n",
       "      <td>20041105X01764</td>\n",
       "      <td>Accident</td>\n",
       "      <td>CHI79FA064</td>\n",
       "      <td>1979-08-02</td>\n",
       "      <td>Canton, OH</td>\n",
       "      <td>United States</td>\n",
       "      <td>NaN</td>\n",
       "      <td>NaN</td>\n",
       "      <td>NaN</td>\n",
       "      <td>NaN</td>\n",
       "      <td>...</td>\n",
       "      <td>Personal</td>\n",
       "      <td>NaN</td>\n",
       "      <td>1.0</td>\n",
       "      <td>2.0</td>\n",
       "      <td>NaN</td>\n",
       "      <td>0.0</td>\n",
       "      <td>VMC</td>\n",
       "      <td>Approach</td>\n",
       "      <td>Probable Cause</td>\n",
       "      <td>16-04-1980</td>\n",
       "    </tr>\n",
       "  </tbody>\n",
       "</table>\n",
       "<p>5 rows × 31 columns</p>\n",
       "</div>"
      ],
      "text/plain": [
       "         Event.Id Investigation.Type Accident.Number  Event.Date  \\\n",
       "0  20001218X45444           Accident      SEA87LA080  1948-10-24   \n",
       "1  20001218X45447           Accident      LAX94LA336  1962-07-19   \n",
       "2  20061025X01555           Accident      NYC07LA005  1974-08-30   \n",
       "3  20001218X45448           Accident      LAX96LA321  1977-06-19   \n",
       "4  20041105X01764           Accident      CHI79FA064  1979-08-02   \n",
       "\n",
       "          Location        Country Latitude Longitude Airport.Code  \\\n",
       "0  MOOSE CREEK, ID  United States      NaN       NaN          NaN   \n",
       "1   BRIDGEPORT, CA  United States      NaN       NaN          NaN   \n",
       "2    Saltville, VA  United States  36.9222  -81.8781          NaN   \n",
       "3       EUREKA, CA  United States      NaN       NaN          NaN   \n",
       "4       Canton, OH  United States      NaN       NaN          NaN   \n",
       "\n",
       "  Airport.Name  ... Purpose.of.flight Air.carrier Total.Fatal.Injuries  \\\n",
       "0          NaN  ...          Personal         NaN                  2.0   \n",
       "1          NaN  ...          Personal         NaN                  4.0   \n",
       "2          NaN  ...          Personal         NaN                  3.0   \n",
       "3          NaN  ...          Personal         NaN                  2.0   \n",
       "4          NaN  ...          Personal         NaN                  1.0   \n",
       "\n",
       "  Total.Serious.Injuries Total.Minor.Injuries Total.Uninjured  \\\n",
       "0                    0.0                  0.0             0.0   \n",
       "1                    0.0                  0.0             0.0   \n",
       "2                    NaN                  NaN             NaN   \n",
       "3                    0.0                  0.0             0.0   \n",
       "4                    2.0                  NaN             0.0   \n",
       "\n",
       "  Weather.Condition  Broad.phase.of.flight   Report.Status Publication.Date  \n",
       "0               UNK                 Cruise  Probable Cause              NaN  \n",
       "1               UNK                Unknown  Probable Cause       19-09-1996  \n",
       "2               IMC                 Cruise  Probable Cause       26-02-2007  \n",
       "3               IMC                 Cruise  Probable Cause       12-09-2000  \n",
       "4               VMC               Approach  Probable Cause       16-04-1980  \n",
       "\n",
       "[5 rows x 31 columns]"
      ]
     },
     "execution_count": 6,
     "metadata": {},
     "output_type": "execute_result"
    }
   ],
   "source": [
    "data_df.head()"
   ]
  },
  {
   "cell_type": "code",
   "execution_count": 7,
   "metadata": {},
   "outputs": [
    {
     "data": {
      "text/plain": [
       "Event.Id                   object\n",
       "Investigation.Type         object\n",
       "Accident.Number            object\n",
       "Event.Date                 object\n",
       "Location                   object\n",
       "Country                    object\n",
       "Latitude                   object\n",
       "Longitude                  object\n",
       "Airport.Code               object\n",
       "Airport.Name               object\n",
       "Injury.Severity            object\n",
       "Aircraft.damage            object\n",
       "Aircraft.Category          object\n",
       "Registration.Number        object\n",
       "Make                       object\n",
       "Model                      object\n",
       "Amateur.Built              object\n",
       "Number.of.Engines         float64\n",
       "Engine.Type                object\n",
       "FAR.Description            object\n",
       "Schedule                   object\n",
       "Purpose.of.flight          object\n",
       "Air.carrier                object\n",
       "Total.Fatal.Injuries      float64\n",
       "Total.Serious.Injuries    float64\n",
       "Total.Minor.Injuries      float64\n",
       "Total.Uninjured           float64\n",
       "Weather.Condition          object\n",
       "Broad.phase.of.flight      object\n",
       "Report.Status              object\n",
       "Publication.Date           object\n",
       "dtype: object"
      ]
     },
     "execution_count": 7,
     "metadata": {},
     "output_type": "execute_result"
    }
   ],
   "source": [
    "data_df.dtypes"
   ]
  },
  {
   "cell_type": "markdown",
   "metadata": {},
   "source": [
    "From this we deduce data has different types being float, str and nan value. We then take a deeper look at the data that is in the columns. To see the amount of Nan values and the number of rows, which is ultimately the data, we have. This also gives us a view of the columns and how much data is missing from each"
   ]
  },
  {
   "cell_type": "code",
   "execution_count": 8,
   "metadata": {},
   "outputs": [
    {
     "data": {
      "text/html": [
       "<div>\n",
       "<style scoped>\n",
       "    .dataframe tbody tr th:only-of-type {\n",
       "        vertical-align: middle;\n",
       "    }\n",
       "\n",
       "    .dataframe tbody tr th {\n",
       "        vertical-align: top;\n",
       "    }\n",
       "\n",
       "    .dataframe thead th {\n",
       "        text-align: right;\n",
       "    }\n",
       "</style>\n",
       "<table border=\"1\" class=\"dataframe\">\n",
       "  <thead>\n",
       "    <tr style=\"text-align: right;\">\n",
       "      <th></th>\n",
       "      <th>Number.of.Engines</th>\n",
       "      <th>Total.Fatal.Injuries</th>\n",
       "      <th>Total.Serious.Injuries</th>\n",
       "      <th>Total.Minor.Injuries</th>\n",
       "      <th>Total.Uninjured</th>\n",
       "    </tr>\n",
       "  </thead>\n",
       "  <tbody>\n",
       "    <tr>\n",
       "      <th>count</th>\n",
       "      <td>82805.000000</td>\n",
       "      <td>77488.000000</td>\n",
       "      <td>76379.000000</td>\n",
       "      <td>76956.000000</td>\n",
       "      <td>82977.000000</td>\n",
       "    </tr>\n",
       "    <tr>\n",
       "      <th>mean</th>\n",
       "      <td>1.146585</td>\n",
       "      <td>0.647855</td>\n",
       "      <td>0.279881</td>\n",
       "      <td>0.357061</td>\n",
       "      <td>5.325440</td>\n",
       "    </tr>\n",
       "    <tr>\n",
       "      <th>std</th>\n",
       "      <td>0.446510</td>\n",
       "      <td>5.485960</td>\n",
       "      <td>1.544084</td>\n",
       "      <td>2.235625</td>\n",
       "      <td>27.913634</td>\n",
       "    </tr>\n",
       "    <tr>\n",
       "      <th>min</th>\n",
       "      <td>0.000000</td>\n",
       "      <td>0.000000</td>\n",
       "      <td>0.000000</td>\n",
       "      <td>0.000000</td>\n",
       "      <td>0.000000</td>\n",
       "    </tr>\n",
       "    <tr>\n",
       "      <th>25%</th>\n",
       "      <td>1.000000</td>\n",
       "      <td>0.000000</td>\n",
       "      <td>0.000000</td>\n",
       "      <td>0.000000</td>\n",
       "      <td>0.000000</td>\n",
       "    </tr>\n",
       "    <tr>\n",
       "      <th>50%</th>\n",
       "      <td>1.000000</td>\n",
       "      <td>0.000000</td>\n",
       "      <td>0.000000</td>\n",
       "      <td>0.000000</td>\n",
       "      <td>1.000000</td>\n",
       "    </tr>\n",
       "    <tr>\n",
       "      <th>75%</th>\n",
       "      <td>1.000000</td>\n",
       "      <td>0.000000</td>\n",
       "      <td>0.000000</td>\n",
       "      <td>0.000000</td>\n",
       "      <td>2.000000</td>\n",
       "    </tr>\n",
       "    <tr>\n",
       "      <th>max</th>\n",
       "      <td>8.000000</td>\n",
       "      <td>349.000000</td>\n",
       "      <td>161.000000</td>\n",
       "      <td>380.000000</td>\n",
       "      <td>699.000000</td>\n",
       "    </tr>\n",
       "  </tbody>\n",
       "</table>\n",
       "</div>"
      ],
      "text/plain": [
       "       Number.of.Engines  Total.Fatal.Injuries  Total.Serious.Injuries  \\\n",
       "count       82805.000000          77488.000000            76379.000000   \n",
       "mean            1.146585              0.647855                0.279881   \n",
       "std             0.446510              5.485960                1.544084   \n",
       "min             0.000000              0.000000                0.000000   \n",
       "25%             1.000000              0.000000                0.000000   \n",
       "50%             1.000000              0.000000                0.000000   \n",
       "75%             1.000000              0.000000                0.000000   \n",
       "max             8.000000            349.000000              161.000000   \n",
       "\n",
       "       Total.Minor.Injuries  Total.Uninjured  \n",
       "count          76956.000000     82977.000000  \n",
       "mean               0.357061         5.325440  \n",
       "std                2.235625        27.913634  \n",
       "min                0.000000         0.000000  \n",
       "25%                0.000000         0.000000  \n",
       "50%                0.000000         1.000000  \n",
       "75%                0.000000         2.000000  \n",
       "max              380.000000       699.000000  "
      ]
     },
     "execution_count": 8,
     "metadata": {},
     "output_type": "execute_result"
    }
   ],
   "source": [
    "data_df.describe()"
   ]
  },
  {
   "cell_type": "code",
   "execution_count": 9,
   "metadata": {},
   "outputs": [
    {
     "name": "stdout",
     "output_type": "stream",
     "text": [
      "<class 'pandas.core.frame.DataFrame'>\n",
      "RangeIndex: 90348 entries, 0 to 90347\n",
      "Data columns (total 31 columns):\n",
      " #   Column                  Non-Null Count  Dtype  \n",
      "---  ------                  --------------  -----  \n",
      " 0   Event.Id                88889 non-null  object \n",
      " 1   Investigation.Type      90348 non-null  object \n",
      " 2   Accident.Number         88889 non-null  object \n",
      " 3   Event.Date              88889 non-null  object \n",
      " 4   Location                88837 non-null  object \n",
      " 5   Country                 88663 non-null  object \n",
      " 6   Latitude                34382 non-null  object \n",
      " 7   Longitude               34373 non-null  object \n",
      " 8   Airport.Code            50249 non-null  object \n",
      " 9   Airport.Name            52790 non-null  object \n",
      " 10  Injury.Severity         87889 non-null  object \n",
      " 11  Aircraft.damage         85695 non-null  object \n",
      " 12  Aircraft.Category       32287 non-null  object \n",
      " 13  Registration.Number     87572 non-null  object \n",
      " 14  Make                    88826 non-null  object \n",
      " 15  Model                   88797 non-null  object \n",
      " 16  Amateur.Built           88787 non-null  object \n",
      " 17  Number.of.Engines       82805 non-null  float64\n",
      " 18  Engine.Type             81812 non-null  object \n",
      " 19  FAR.Description         32023 non-null  object \n",
      " 20  Schedule                12582 non-null  object \n",
      " 21  Purpose.of.flight       82697 non-null  object \n",
      " 22  Air.carrier             16648 non-null  object \n",
      " 23  Total.Fatal.Injuries    77488 non-null  float64\n",
      " 24  Total.Serious.Injuries  76379 non-null  float64\n",
      " 25  Total.Minor.Injuries    76956 non-null  float64\n",
      " 26  Total.Uninjured         82977 non-null  float64\n",
      " 27  Weather.Condition       84397 non-null  object \n",
      " 28  Broad.phase.of.flight   61724 non-null  object \n",
      " 29  Report.Status           82508 non-null  object \n",
      " 30  Publication.Date        73659 non-null  object \n",
      "dtypes: float64(5), object(26)\n",
      "memory usage: 21.4+ MB\n"
     ]
    }
   ],
   "source": [
    "data_df.info()"
   ]
  },
  {
   "cell_type": "markdown",
   "metadata": {},
   "source": [
    "We now look into the different columns to get a better view of the data including the values and what insight\n",
    "we can get from the values. We look at the different columns and the values within."
   ]
  },
  {
   "cell_type": "code",
   "execution_count": 10,
   "metadata": {},
   "outputs": [
    {
     "data": {
      "text/plain": [
       "United States     82248\n",
       "Brazil              374\n",
       "Canada              359\n",
       "Mexico              358\n",
       "United Kingdom      344\n",
       "Name: Country, dtype: int64"
      ]
     },
     "execution_count": 10,
     "metadata": {},
     "output_type": "execute_result"
    }
   ],
   "source": [
    "data_df['Country'].value_counts().head()"
   ]
  },
  {
   "cell_type": "code",
   "execution_count": 11,
   "metadata": {},
   "outputs": [
    {
     "data": {
      "text/plain": [
       "ANCHORAGE, AK      434\n",
       "MIAMI, FL          200\n",
       "ALBUQUERQUE, NM    196\n",
       "HOUSTON, TX        193\n",
       "CHICAGO, IL        184\n",
       "Name: Location, dtype: int64"
      ]
     },
     "execution_count": 11,
     "metadata": {},
     "output_type": "execute_result"
    }
   ],
   "source": [
    "data_df[\"Location\"].value_counts().head()"
   ]
  },
  {
   "cell_type": "code",
   "execution_count": 12,
   "metadata": {},
   "outputs": [
    {
     "data": {
      "text/plain": [
       "Accident      85015\n",
       "Incident       3874\n",
       "25-09-2020      702\n",
       "26-09-2020       60\n",
       "02-02-2021       39\n",
       "Name: Investigation.Type, dtype: int64"
      ]
     },
     "execution_count": 12,
     "metadata": {},
     "output_type": "execute_result"
    }
   ],
   "source": [
    "data_df['Investigation.Type'].value_counts().head()"
   ]
  },
  {
   "cell_type": "code",
   "execution_count": 14,
   "metadata": {},
   "outputs": [
    {
     "data": {
      "text/plain": [
       "Private                     240\n",
       "PRIVATE                     224\n",
       "Private Airstrip            153\n",
       "NONE                        146\n",
       "PRIVATE STRIP               111\n",
       "                           ... \n",
       "WERSTERLY STATE               1\n",
       "TETON PEAKS/DRIGGS MUNI/      1\n",
       "San Juan Pueblo NM            1\n",
       "Denver Internationl           1\n",
       "MCAS Camp Pendleton           1\n",
       "Name: Airport.Name, Length: 24871, dtype: int64"
      ]
     },
     "execution_count": 14,
     "metadata": {},
     "output_type": "execute_result"
    }
   ],
   "source": [
    "data_df['Airport.Name'].value_counts()"
   ]
  },
  {
   "cell_type": "code",
   "execution_count": 16,
   "metadata": {},
   "outputs": [
    {
     "data": {
      "text/plain": [
       "Non-Fatal    67357\n",
       "Fatal(1)      6167\n",
       "Fatal         5262\n",
       "Fatal(2)      3711\n",
       "Incident      2219\n",
       "Name: Injury.Severity, dtype: int64"
      ]
     },
     "execution_count": 16,
     "metadata": {},
     "output_type": "execute_result"
    }
   ],
   "source": [
    "data_df['Injury.Severity'].value_counts().head()"
   ]
  },
  {
   "cell_type": "code",
   "execution_count": 18,
   "metadata": {},
   "outputs": [
    {
     "data": {
      "text/plain": [
       "Personal                     49448\n",
       "Instructional                10601\n",
       "NaN                           7651\n",
       "Unknown                       6802\n",
       "Aerial Application            4712\n",
       "Business                      4018\n",
       "Positioning                   1646\n",
       "Other Work Use                1264\n",
       "Ferry                          812\n",
       "Aerial Observation             794\n",
       "Public Aircraft                720\n",
       "Executive/corporate            553\n",
       "Flight Test                    405\n",
       "Skydiving                      182\n",
       "External Load                  123\n",
       "Public Aircraft - Federal      105\n",
       "Banner Tow                     101\n",
       "Air Race show                   99\n",
       "Public Aircraft - Local         74\n",
       "Public Aircraft - State         64\n",
       "Air Race/show                   59\n",
       "Glider Tow                      53\n",
       "Firefighting                    40\n",
       "Air Drop                        11\n",
       "ASHO                             6\n",
       "PUBS                             4\n",
       "PUBL                             1\n",
       "Name: Purpose.of.flight, dtype: int64"
      ]
     },
     "execution_count": 18,
     "metadata": {},
     "output_type": "execute_result"
    }
   ],
   "source": [
    "data_df['Purpose.of.flight'].value_counts(dropna=False)\n"
   ]
  },
  {
   "cell_type": "code",
   "execution_count": 23,
   "metadata": {},
   "outputs": [
    {
     "data": {
      "text/plain": [
       "Probable Cause                                                                  61754\n",
       "Foreign                                                                          1999\n",
       "<br /><br />                                                                      167\n",
       "Factual                                                                           145\n",
       "The pilot's failure to maintain directional control during the landing roll.       58\n",
       "Name: Report.Status, dtype: int64"
      ]
     },
     "execution_count": 23,
     "metadata": {},
     "output_type": "execute_result"
    }
   ],
   "source": [
    "data_df['Report.Status'].value_counts().head()"
   ]
  },
  {
   "cell_type": "code",
   "execution_count": 26,
   "metadata": {},
   "outputs": [
    {
     "data": {
      "text/plain": [
       "78150    A partial loss of engine power shortly after t...\n",
       "67103    The delay by both pilots to abort the takeoff ...\n",
       "83715    The student pilot's failure to maintain direct...\n",
       "69377    The pilot's failure to recognize the onset of ...\n",
       "64082    The flight attendant's inadvertent slip on the...\n",
       "82178    The pilots improper landing flare during a so...\n",
       "68803    The pilots failure to maintain adequate airsp...\n",
       "65113    A loss of engine power due to carburetor icing...\n",
       "85063    The pilot's unstable approach and delayed deci...\n",
       "80489    The prospective pilots improper landing flare...\n",
       "Name: Report.Status, dtype: object"
      ]
     },
     "execution_count": 26,
     "metadata": {},
     "output_type": "execute_result"
    }
   ],
   "source": [
    "data_df[data_df[\"Report.Status\"].str.len() > 100][\"Report.Status\"].sample(10)\n"
   ]
  },
  {
   "cell_type": "code",
   "execution_count": 21,
   "metadata": {},
   "outputs": [
    {
     "data": {
      "text/plain": [
       "VMC    91.594488\n",
       "IMC     7.080820\n",
       "UNK     1.014254\n",
       "Unk     0.310438\n",
       "Name: Weather.Condition, dtype: float64"
      ]
     },
     "execution_count": 21,
     "metadata": {},
     "output_type": "execute_result"
    }
   ],
   "source": [
    "data_df[\"Weather.Condition\"].value_counts(normalize=True)*100"
   ]
  },
  {
   "cell_type": "code",
   "execution_count": 15,
   "metadata": {},
   "outputs": [
    {
     "data": {
      "text/plain": [
       "41.57037233807057"
      ]
     },
     "execution_count": 15,
     "metadata": {},
     "output_type": "execute_result"
    }
   ],
   "source": [
    "data_df['Airport.Name'].isna().mean()*100"
   ]
  },
  {
   "cell_type": "code",
   "execution_count": 19,
   "metadata": {},
   "outputs": [
    {
     "data": {
      "text/plain": [
       "False    88958\n",
       "True      1390\n",
       "dtype: int64"
      ]
     },
     "execution_count": 19,
     "metadata": {},
     "output_type": "execute_result"
    }
   ],
   "source": [
    "data_df.duplicated().value_counts()"
   ]
  },
  {
   "cell_type": "code",
   "execution_count": 25,
   "metadata": {},
   "outputs": [
    {
     "data": {
      "text/plain": [
       "False    82508\n",
       "True      7840\n",
       "Name: Report.Status, dtype: int64"
      ]
     },
     "execution_count": 25,
     "metadata": {},
     "output_type": "execute_result"
    }
   ],
   "source": [
    "data_df['Report.Status'].isna().value_counts()"
   ]
  },
  {
   "cell_type": "code",
   "execution_count": 27,
   "metadata": {},
   "outputs": [
    {
     "data": {
      "text/plain": [
       "091                               18221\n",
       "Part 91: General Aviation          6486\n",
       "NUSN                               1584\n",
       "NUSC                               1013\n",
       "137                                1010\n",
       "135                                 746\n",
       "121                                 679\n",
       "Part 137: Agricultural              437\n",
       "UNK                                 371\n",
       "Part 135: Air Taxi & Commuter       298\n",
       "PUBU                                253\n",
       "129                                 246\n",
       "Part 121: Air Carrier               165\n",
       "133                                 107\n",
       "Part 129: Foreign                   100\n",
       "Non-U.S., Non-Commercial             97\n",
       "Non-U.S., Commercial                 93\n",
       "Part 133: Rotorcraft Ext. Load       32\n",
       "Unknown                              22\n",
       "Public Use                           19\n",
       "091K                                 14\n",
       "ARMF                                  8\n",
       "Part 125: 20+ Pax,6000+ lbs           5\n",
       "125                                   5\n",
       "107                                   4\n",
       "Public Aircraft                       2\n",
       "103                                   2\n",
       "Part 91 Subpart K: Fractional         1\n",
       "Armed Forces                          1\n",
       "437                                   1\n",
       "Part 91F: Special Flt Ops.            1\n",
       "Name: FAR.Description, dtype: int64"
      ]
     },
     "execution_count": 27,
     "metadata": {},
     "output_type": "execute_result"
    }
   ],
   "source": [
    "data_df['FAR.Description'].value_counts()"
   ]
  },
  {
   "cell_type": "code",
   "execution_count": 28,
   "metadata": {},
   "outputs": [
    {
     "data": {
      "text/plain": [
       "64.55593925709479"
      ]
     },
     "execution_count": 28,
     "metadata": {},
     "output_type": "execute_result"
    }
   ],
   "source": [
    "data_df['FAR.Description'].isna().mean()*100"
   ]
  },
  {
   "cell_type": "code",
   "execution_count": 29,
   "metadata": {},
   "outputs": [
    {
     "data": {
      "text/plain": [
       "Personal                     49448\n",
       "Instructional                10601\n",
       "Unknown                       6802\n",
       "Aerial Application            4712\n",
       "Business                      4018\n",
       "Positioning                   1646\n",
       "Other Work Use                1264\n",
       "Ferry                          812\n",
       "Aerial Observation             794\n",
       "Public Aircraft                720\n",
       "Executive/corporate            553\n",
       "Flight Test                    405\n",
       "Skydiving                      182\n",
       "External Load                  123\n",
       "Public Aircraft - Federal      105\n",
       "Banner Tow                     101\n",
       "Air Race show                   99\n",
       "Public Aircraft - Local         74\n",
       "Public Aircraft - State         64\n",
       "Air Race/show                   59\n",
       "Glider Tow                      53\n",
       "Firefighting                    40\n",
       "Air Drop                        11\n",
       "ASHO                             6\n",
       "PUBS                             4\n",
       "PUBL                             1\n",
       "Name: Purpose.of.flight, dtype: int64"
      ]
     },
     "execution_count": 29,
     "metadata": {},
     "output_type": "execute_result"
    }
   ],
   "source": [
    "data_df['Purpose.of.flight'].value_counts()"
   ]
  },
  {
   "cell_type": "code",
   "execution_count": 30,
   "metadata": {},
   "outputs": [
    {
     "data": {
      "text/plain": [
       "8.468366759640501"
      ]
     },
     "execution_count": 30,
     "metadata": {},
     "output_type": "execute_result"
    }
   ],
   "source": [
    "data_df['Purpose.of.flight'].isna().mean()*100"
   ]
  },
  {
   "cell_type": "code",
   "execution_count": 31,
   "metadata": {},
   "outputs": [
    {
     "data": {
      "text/plain": [
       "United States     82248\n",
       "Brazil              374\n",
       "Canada              359\n",
       "Mexico              358\n",
       "United Kingdom      344\n",
       "                  ...  \n",
       "Mauritania            1\n",
       "Benin                 1\n",
       "Chad                  1\n",
       "Liberia               1\n",
       "Nauru                 1\n",
       "Name: Country, Length: 219, dtype: int64"
      ]
     },
     "execution_count": 31,
     "metadata": {},
     "output_type": "execute_result"
    }
   ],
   "source": [
    "data_df[\"Country\"].value_counts()"
   ]
  },
  {
   "cell_type": "code",
   "execution_count": 32,
   "metadata": {},
   "outputs": [
    {
     "data": {
      "text/plain": [
       "219"
      ]
     },
     "execution_count": 32,
     "metadata": {},
     "output_type": "execute_result"
    }
   ],
   "source": [
    "data_df['Country'].nunique()"
   ]
  },
  {
   "cell_type": "code",
   "execution_count": 33,
   "metadata": {},
   "outputs": [
    {
     "data": {
      "text/plain": [
       "array(['Reciprocating', nan, 'Turbo Fan', 'Turbo Shaft', 'Unknown',\n",
       "       'Turbo Prop', 'Turbo Jet', 'None', 'Electric', 'Hybrid Rocket',\n",
       "       'Geared Turbofan', 'LR', 'NONE', 'UNK'], dtype=object)"
      ]
     },
     "execution_count": 33,
     "metadata": {},
     "output_type": "execute_result"
    }
   ],
   "source": [
    "data_df['Engine.Type'].unique()"
   ]
  },
  {
   "cell_type": "code",
   "execution_count": 34,
   "metadata": {},
   "outputs": [
    {
     "data": {
      "text/plain": [
       "Reciprocating      69530\n",
       "Turbo Shaft         3609\n",
       "Turbo Prop          3391\n",
       "Turbo Fan           2481\n",
       "Unknown             2051\n",
       "Turbo Jet            703\n",
       "None                  19\n",
       "Geared Turbofan       12\n",
       "Electric              10\n",
       "NONE                   2\n",
       "LR                     2\n",
       "Hybrid Rocket          1\n",
       "UNK                    1\n",
       "Name: Engine.Type, dtype: int64"
      ]
     },
     "execution_count": 34,
     "metadata": {},
     "output_type": "execute_result"
    }
   ],
   "source": [
    "data_df['Engine.Type'].value_counts()"
   ]
  },
  {
   "cell_type": "code",
   "execution_count": 35,
   "metadata": {},
   "outputs": [
    {
     "data": {
      "text/plain": [
       "8536"
      ]
     },
     "execution_count": 35,
     "metadata": {},
     "output_type": "execute_result"
    }
   ],
   "source": [
    "data_df['Engine.Type'].isna().sum()"
   ]
  },
  {
   "cell_type": "code",
   "execution_count": 36,
   "metadata": {},
   "outputs": [
    {
     "data": {
      "text/plain": [
       "Accident      85015\n",
       "Incident       3874\n",
       "25-09-2020      702\n",
       "26-09-2020       60\n",
       "02-02-2021       39\n",
       "              ...  \n",
       "05-04-2021        1\n",
       "31-03-2021        1\n",
       "05-08-2022        1\n",
       "04-03-2021        1\n",
       "04-08-2021        1\n",
       "Name: Investigation.Type, Length: 71, dtype: int64"
      ]
     },
     "execution_count": 36,
     "metadata": {},
     "output_type": "execute_result"
    }
   ],
   "source": [
    "data_df[\"Investigation.Type\"].value_counts()"
   ]
  },
  {
   "cell_type": "code",
   "execution_count": 37,
   "metadata": {},
   "outputs": [
    {
     "data": {
      "text/html": [
       "<div>\n",
       "<style scoped>\n",
       "    .dataframe tbody tr th:only-of-type {\n",
       "        vertical-align: middle;\n",
       "    }\n",
       "\n",
       "    .dataframe tbody tr th {\n",
       "        vertical-align: top;\n",
       "    }\n",
       "\n",
       "    .dataframe thead th {\n",
       "        text-align: right;\n",
       "    }\n",
       "</style>\n",
       "<table border=\"1\" class=\"dataframe\">\n",
       "  <thead>\n",
       "    <tr style=\"text-align: right;\">\n",
       "      <th></th>\n",
       "      <th>Event.Id</th>\n",
       "      <th>Investigation.Type</th>\n",
       "      <th>Accident.Number</th>\n",
       "      <th>Event.Date</th>\n",
       "      <th>Location</th>\n",
       "      <th>Country</th>\n",
       "      <th>Latitude</th>\n",
       "      <th>Longitude</th>\n",
       "      <th>Airport.Code</th>\n",
       "      <th>Airport.Name</th>\n",
       "      <th>...</th>\n",
       "      <th>Purpose.of.flight</th>\n",
       "      <th>Air.carrier</th>\n",
       "      <th>Total.Fatal.Injuries</th>\n",
       "      <th>Total.Serious.Injuries</th>\n",
       "      <th>Total.Minor.Injuries</th>\n",
       "      <th>Total.Uninjured</th>\n",
       "      <th>Weather.Condition</th>\n",
       "      <th>Broad.phase.of.flight</th>\n",
       "      <th>Report.Status</th>\n",
       "      <th>Publication.Date</th>\n",
       "    </tr>\n",
       "  </thead>\n",
       "  <tbody>\n",
       "    <tr>\n",
       "      <th>64030</th>\n",
       "      <td>NaN</td>\n",
       "      <td>25-09-2020</td>\n",
       "      <td>NaN</td>\n",
       "      <td>NaN</td>\n",
       "      <td>NaN</td>\n",
       "      <td>NaN</td>\n",
       "      <td>NaN</td>\n",
       "      <td>NaN</td>\n",
       "      <td>NaN</td>\n",
       "      <td>NaN</td>\n",
       "      <td>...</td>\n",
       "      <td>NaN</td>\n",
       "      <td>NaN</td>\n",
       "      <td>NaN</td>\n",
       "      <td>NaN</td>\n",
       "      <td>NaN</td>\n",
       "      <td>NaN</td>\n",
       "      <td>NaN</td>\n",
       "      <td>NaN</td>\n",
       "      <td>NaN</td>\n",
       "      <td>NaN</td>\n",
       "    </tr>\n",
       "    <tr>\n",
       "      <th>64050</th>\n",
       "      <td>NaN</td>\n",
       "      <td>25-09-2020</td>\n",
       "      <td>NaN</td>\n",
       "      <td>NaN</td>\n",
       "      <td>NaN</td>\n",
       "      <td>NaN</td>\n",
       "      <td>NaN</td>\n",
       "      <td>NaN</td>\n",
       "      <td>NaN</td>\n",
       "      <td>NaN</td>\n",
       "      <td>...</td>\n",
       "      <td>NaN</td>\n",
       "      <td>NaN</td>\n",
       "      <td>NaN</td>\n",
       "      <td>NaN</td>\n",
       "      <td>NaN</td>\n",
       "      <td>NaN</td>\n",
       "      <td>NaN</td>\n",
       "      <td>NaN</td>\n",
       "      <td>NaN</td>\n",
       "      <td>NaN</td>\n",
       "    </tr>\n",
       "    <tr>\n",
       "      <th>64052</th>\n",
       "      <td>NaN</td>\n",
       "      <td>25-09-2020</td>\n",
       "      <td>NaN</td>\n",
       "      <td>NaN</td>\n",
       "      <td>NaN</td>\n",
       "      <td>NaN</td>\n",
       "      <td>NaN</td>\n",
       "      <td>NaN</td>\n",
       "      <td>NaN</td>\n",
       "      <td>NaN</td>\n",
       "      <td>...</td>\n",
       "      <td>NaN</td>\n",
       "      <td>NaN</td>\n",
       "      <td>NaN</td>\n",
       "      <td>NaN</td>\n",
       "      <td>NaN</td>\n",
       "      <td>NaN</td>\n",
       "      <td>NaN</td>\n",
       "      <td>NaN</td>\n",
       "      <td>NaN</td>\n",
       "      <td>NaN</td>\n",
       "    </tr>\n",
       "    <tr>\n",
       "      <th>64388</th>\n",
       "      <td>NaN</td>\n",
       "      <td>25-09-2020</td>\n",
       "      <td>NaN</td>\n",
       "      <td>NaN</td>\n",
       "      <td>NaN</td>\n",
       "      <td>NaN</td>\n",
       "      <td>NaN</td>\n",
       "      <td>NaN</td>\n",
       "      <td>NaN</td>\n",
       "      <td>NaN</td>\n",
       "      <td>...</td>\n",
       "      <td>NaN</td>\n",
       "      <td>NaN</td>\n",
       "      <td>NaN</td>\n",
       "      <td>NaN</td>\n",
       "      <td>NaN</td>\n",
       "      <td>NaN</td>\n",
       "      <td>NaN</td>\n",
       "      <td>NaN</td>\n",
       "      <td>NaN</td>\n",
       "      <td>NaN</td>\n",
       "    </tr>\n",
       "    <tr>\n",
       "      <th>64541</th>\n",
       "      <td>NaN</td>\n",
       "      <td>25-09-2020</td>\n",
       "      <td>NaN</td>\n",
       "      <td>NaN</td>\n",
       "      <td>NaN</td>\n",
       "      <td>NaN</td>\n",
       "      <td>NaN</td>\n",
       "      <td>NaN</td>\n",
       "      <td>NaN</td>\n",
       "      <td>NaN</td>\n",
       "      <td>...</td>\n",
       "      <td>NaN</td>\n",
       "      <td>NaN</td>\n",
       "      <td>NaN</td>\n",
       "      <td>NaN</td>\n",
       "      <td>NaN</td>\n",
       "      <td>NaN</td>\n",
       "      <td>NaN</td>\n",
       "      <td>NaN</td>\n",
       "      <td>NaN</td>\n",
       "      <td>NaN</td>\n",
       "    </tr>\n",
       "    <tr>\n",
       "      <th>...</th>\n",
       "      <td>...</td>\n",
       "      <td>...</td>\n",
       "      <td>...</td>\n",
       "      <td>...</td>\n",
       "      <td>...</td>\n",
       "      <td>...</td>\n",
       "      <td>...</td>\n",
       "      <td>...</td>\n",
       "      <td>...</td>\n",
       "      <td>...</td>\n",
       "      <td>...</td>\n",
       "      <td>...</td>\n",
       "      <td>...</td>\n",
       "      <td>...</td>\n",
       "      <td>...</td>\n",
       "      <td>...</td>\n",
       "      <td>...</td>\n",
       "      <td>...</td>\n",
       "      <td>...</td>\n",
       "      <td>...</td>\n",
       "      <td>...</td>\n",
       "    </tr>\n",
       "    <tr>\n",
       "      <th>90004</th>\n",
       "      <td>NaN</td>\n",
       "      <td>15-12-2022</td>\n",
       "      <td>NaN</td>\n",
       "      <td>NaN</td>\n",
       "      <td>NaN</td>\n",
       "      <td>NaN</td>\n",
       "      <td>NaN</td>\n",
       "      <td>NaN</td>\n",
       "      <td>NaN</td>\n",
       "      <td>NaN</td>\n",
       "      <td>...</td>\n",
       "      <td>NaN</td>\n",
       "      <td>NaN</td>\n",
       "      <td>NaN</td>\n",
       "      <td>NaN</td>\n",
       "      <td>NaN</td>\n",
       "      <td>NaN</td>\n",
       "      <td>NaN</td>\n",
       "      <td>NaN</td>\n",
       "      <td>NaN</td>\n",
       "      <td>NaN</td>\n",
       "    </tr>\n",
       "    <tr>\n",
       "      <th>90010</th>\n",
       "      <td>NaN</td>\n",
       "      <td>15-12-2022</td>\n",
       "      <td>NaN</td>\n",
       "      <td>NaN</td>\n",
       "      <td>NaN</td>\n",
       "      <td>NaN</td>\n",
       "      <td>NaN</td>\n",
       "      <td>NaN</td>\n",
       "      <td>NaN</td>\n",
       "      <td>NaN</td>\n",
       "      <td>...</td>\n",
       "      <td>NaN</td>\n",
       "      <td>NaN</td>\n",
       "      <td>NaN</td>\n",
       "      <td>NaN</td>\n",
       "      <td>NaN</td>\n",
       "      <td>NaN</td>\n",
       "      <td>NaN</td>\n",
       "      <td>NaN</td>\n",
       "      <td>NaN</td>\n",
       "      <td>NaN</td>\n",
       "    </tr>\n",
       "    <tr>\n",
       "      <th>90031</th>\n",
       "      <td>NaN</td>\n",
       "      <td>15-12-2022</td>\n",
       "      <td>NaN</td>\n",
       "      <td>NaN</td>\n",
       "      <td>NaN</td>\n",
       "      <td>NaN</td>\n",
       "      <td>NaN</td>\n",
       "      <td>NaN</td>\n",
       "      <td>NaN</td>\n",
       "      <td>NaN</td>\n",
       "      <td>...</td>\n",
       "      <td>NaN</td>\n",
       "      <td>NaN</td>\n",
       "      <td>NaN</td>\n",
       "      <td>NaN</td>\n",
       "      <td>NaN</td>\n",
       "      <td>NaN</td>\n",
       "      <td>NaN</td>\n",
       "      <td>NaN</td>\n",
       "      <td>NaN</td>\n",
       "      <td>NaN</td>\n",
       "    </tr>\n",
       "    <tr>\n",
       "      <th>90090</th>\n",
       "      <td>NaN</td>\n",
       "      <td>20-12-2022</td>\n",
       "      <td>NaN</td>\n",
       "      <td>NaN</td>\n",
       "      <td>NaN</td>\n",
       "      <td>NaN</td>\n",
       "      <td>NaN</td>\n",
       "      <td>NaN</td>\n",
       "      <td>NaN</td>\n",
       "      <td>NaN</td>\n",
       "      <td>...</td>\n",
       "      <td>NaN</td>\n",
       "      <td>NaN</td>\n",
       "      <td>NaN</td>\n",
       "      <td>NaN</td>\n",
       "      <td>NaN</td>\n",
       "      <td>NaN</td>\n",
       "      <td>NaN</td>\n",
       "      <td>NaN</td>\n",
       "      <td>NaN</td>\n",
       "      <td>NaN</td>\n",
       "    </tr>\n",
       "    <tr>\n",
       "      <th>90097</th>\n",
       "      <td>NaN</td>\n",
       "      <td>20-12-2022</td>\n",
       "      <td>NaN</td>\n",
       "      <td>NaN</td>\n",
       "      <td>NaN</td>\n",
       "      <td>NaN</td>\n",
       "      <td>NaN</td>\n",
       "      <td>NaN</td>\n",
       "      <td>NaN</td>\n",
       "      <td>NaN</td>\n",
       "      <td>...</td>\n",
       "      <td>NaN</td>\n",
       "      <td>NaN</td>\n",
       "      <td>NaN</td>\n",
       "      <td>NaN</td>\n",
       "      <td>NaN</td>\n",
       "      <td>NaN</td>\n",
       "      <td>NaN</td>\n",
       "      <td>NaN</td>\n",
       "      <td>NaN</td>\n",
       "      <td>NaN</td>\n",
       "    </tr>\n",
       "  </tbody>\n",
       "</table>\n",
       "<p>1447 rows × 31 columns</p>\n",
       "</div>"
      ],
      "text/plain": [
       "      Event.Id Investigation.Type Accident.Number Event.Date Location Country  \\\n",
       "64030      NaN         25-09-2020             NaN        NaN      NaN     NaN   \n",
       "64050      NaN         25-09-2020             NaN        NaN      NaN     NaN   \n",
       "64052      NaN         25-09-2020             NaN        NaN      NaN     NaN   \n",
       "64388      NaN         25-09-2020             NaN        NaN      NaN     NaN   \n",
       "64541      NaN         25-09-2020             NaN        NaN      NaN     NaN   \n",
       "...        ...                ...             ...        ...      ...     ...   \n",
       "90004      NaN         15-12-2022             NaN        NaN      NaN     NaN   \n",
       "90010      NaN         15-12-2022             NaN        NaN      NaN     NaN   \n",
       "90031      NaN         15-12-2022             NaN        NaN      NaN     NaN   \n",
       "90090      NaN         20-12-2022             NaN        NaN      NaN     NaN   \n",
       "90097      NaN         20-12-2022             NaN        NaN      NaN     NaN   \n",
       "\n",
       "      Latitude Longitude Airport.Code Airport.Name  ... Purpose.of.flight  \\\n",
       "64030      NaN       NaN          NaN          NaN  ...               NaN   \n",
       "64050      NaN       NaN          NaN          NaN  ...               NaN   \n",
       "64052      NaN       NaN          NaN          NaN  ...               NaN   \n",
       "64388      NaN       NaN          NaN          NaN  ...               NaN   \n",
       "64541      NaN       NaN          NaN          NaN  ...               NaN   \n",
       "...        ...       ...          ...          ...  ...               ...   \n",
       "90004      NaN       NaN          NaN          NaN  ...               NaN   \n",
       "90010      NaN       NaN          NaN          NaN  ...               NaN   \n",
       "90031      NaN       NaN          NaN          NaN  ...               NaN   \n",
       "90090      NaN       NaN          NaN          NaN  ...               NaN   \n",
       "90097      NaN       NaN          NaN          NaN  ...               NaN   \n",
       "\n",
       "      Air.carrier Total.Fatal.Injuries Total.Serious.Injuries  \\\n",
       "64030         NaN                  NaN                    NaN   \n",
       "64050         NaN                  NaN                    NaN   \n",
       "64052         NaN                  NaN                    NaN   \n",
       "64388         NaN                  NaN                    NaN   \n",
       "64541         NaN                  NaN                    NaN   \n",
       "...           ...                  ...                    ...   \n",
       "90004         NaN                  NaN                    NaN   \n",
       "90010         NaN                  NaN                    NaN   \n",
       "90031         NaN                  NaN                    NaN   \n",
       "90090         NaN                  NaN                    NaN   \n",
       "90097         NaN                  NaN                    NaN   \n",
       "\n",
       "      Total.Minor.Injuries Total.Uninjured Weather.Condition  \\\n",
       "64030                  NaN             NaN               NaN   \n",
       "64050                  NaN             NaN               NaN   \n",
       "64052                  NaN             NaN               NaN   \n",
       "64388                  NaN             NaN               NaN   \n",
       "64541                  NaN             NaN               NaN   \n",
       "...                    ...             ...               ...   \n",
       "90004                  NaN             NaN               NaN   \n",
       "90010                  NaN             NaN               NaN   \n",
       "90031                  NaN             NaN               NaN   \n",
       "90090                  NaN             NaN               NaN   \n",
       "90097                  NaN             NaN               NaN   \n",
       "\n",
       "       Broad.phase.of.flight Report.Status Publication.Date  \n",
       "64030                    NaN           NaN              NaN  \n",
       "64050                    NaN           NaN              NaN  \n",
       "64052                    NaN           NaN              NaN  \n",
       "64388                    NaN           NaN              NaN  \n",
       "64541                    NaN           NaN              NaN  \n",
       "...                      ...           ...              ...  \n",
       "90004                    NaN           NaN              NaN  \n",
       "90010                    NaN           NaN              NaN  \n",
       "90031                    NaN           NaN              NaN  \n",
       "90090                    NaN           NaN              NaN  \n",
       "90097                    NaN           NaN              NaN  \n",
       "\n",
       "[1447 rows x 31 columns]"
      ]
     },
     "execution_count": 37,
     "metadata": {},
     "output_type": "execute_result"
    }
   ],
   "source": [
    "data_df[data_df.duplicated(keep=False)]\n"
   ]
  },
  {
   "cell_type": "code",
   "execution_count": 38,
   "metadata": {},
   "outputs": [
    {
     "name": "stdout",
     "output_type": "stream",
     "text": [
      "<class 'pandas.core.frame.DataFrame'>\n",
      "Int64Index: 1447 entries, 64030 to 90097\n",
      "Data columns (total 31 columns):\n",
      " #   Column                  Non-Null Count  Dtype  \n",
      "---  ------                  --------------  -----  \n",
      " 0   Event.Id                0 non-null      object \n",
      " 1   Investigation.Type      1447 non-null   object \n",
      " 2   Accident.Number         0 non-null      object \n",
      " 3   Event.Date              0 non-null      object \n",
      " 4   Location                0 non-null      object \n",
      " 5   Country                 0 non-null      object \n",
      " 6   Latitude                0 non-null      object \n",
      " 7   Longitude               0 non-null      object \n",
      " 8   Airport.Code            0 non-null      object \n",
      " 9   Airport.Name            0 non-null      object \n",
      " 10  Injury.Severity         0 non-null      object \n",
      " 11  Aircraft.damage         0 non-null      object \n",
      " 12  Aircraft.Category       0 non-null      object \n",
      " 13  Registration.Number     0 non-null      object \n",
      " 14  Make                    0 non-null      object \n",
      " 15  Model                   0 non-null      object \n",
      " 16  Amateur.Built           0 non-null      object \n",
      " 17  Number.of.Engines       0 non-null      float64\n",
      " 18  Engine.Type             0 non-null      object \n",
      " 19  FAR.Description         0 non-null      object \n",
      " 20  Schedule                0 non-null      object \n",
      " 21  Purpose.of.flight       0 non-null      object \n",
      " 22  Air.carrier             0 non-null      object \n",
      " 23  Total.Fatal.Injuries    0 non-null      float64\n",
      " 24  Total.Serious.Injuries  0 non-null      float64\n",
      " 25  Total.Minor.Injuries    0 non-null      float64\n",
      " 26  Total.Uninjured         0 non-null      float64\n",
      " 27  Weather.Condition       0 non-null      object \n",
      " 28  Broad.phase.of.flight   0 non-null      object \n",
      " 29  Report.Status           0 non-null      object \n",
      " 30  Publication.Date        0 non-null      object \n",
      "dtypes: float64(5), object(26)\n",
      "memory usage: 361.8+ KB\n"
     ]
    }
   ],
   "source": [
    "data_df[data_df.duplicated(keep=False)].info()"
   ]
  },
  {
   "cell_type": "code",
   "execution_count": 39,
   "metadata": {},
   "outputs": [
    {
     "data": {
      "text/plain": [
       "Cessna     22227\n",
       "Piper      12029\n",
       "CESSNA      4922\n",
       "Beech       4330\n",
       "PIPER       2841\n",
       "Bell        2134\n",
       "Boeing      1594\n",
       "BOEING      1151\n",
       "Grumman     1094\n",
       "Mooney      1092\n",
       "Name: Make, dtype: int64"
      ]
     },
     "execution_count": 39,
     "metadata": {},
     "output_type": "execute_result"
    }
   ],
   "source": [
    "data_df['Make'].value_counts().head(10)"
   ]
  },
  {
   "cell_type": "markdown",
   "metadata": {},
   "source": [
    "## Data Preparation"
   ]
  },
  {
   "cell_type": "markdown",
   "metadata": {},
   "source": [
    "### Data Cleaning"
   ]
  },
  {
   "cell_type": "markdown",
   "metadata": {},
   "source": [
    "The duplicates that were noted all have all Nan values except for one column seems like the\n",
    "data was inputed wrongly. The duplicated rows thus provide no data that would help with our analysis thus we drop the duplicates. This gives a new shape for our dataset.\n"
   ]
  },
  {
   "cell_type": "code",
   "execution_count": 41,
   "metadata": {},
   "outputs": [
    {
     "name": "stdout",
     "output_type": "stream",
     "text": [
      "<class 'pandas.core.frame.DataFrame'>\n",
      "Int64Index: 88958 entries, 0 to 90347\n",
      "Data columns (total 31 columns):\n",
      " #   Column                  Non-Null Count  Dtype  \n",
      "---  ------                  --------------  -----  \n",
      " 0   Event.Id                88889 non-null  object \n",
      " 1   Investigation.Type      88958 non-null  object \n",
      " 2   Accident.Number         88889 non-null  object \n",
      " 3   Event.Date              88889 non-null  object \n",
      " 4   Location                88837 non-null  object \n",
      " 5   Country                 88663 non-null  object \n",
      " 6   Latitude                34382 non-null  object \n",
      " 7   Longitude               34373 non-null  object \n",
      " 8   Airport.Code            50249 non-null  object \n",
      " 9   Airport.Name            52790 non-null  object \n",
      " 10  Injury.Severity         87889 non-null  object \n",
      " 11  Aircraft.damage         85695 non-null  object \n",
      " 12  Aircraft.Category       32287 non-null  object \n",
      " 13  Registration.Number     87572 non-null  object \n",
      " 14  Make                    88826 non-null  object \n",
      " 15  Model                   88797 non-null  object \n",
      " 16  Amateur.Built           88787 non-null  object \n",
      " 17  Number.of.Engines       82805 non-null  float64\n",
      " 18  Engine.Type             81812 non-null  object \n",
      " 19  FAR.Description         32023 non-null  object \n",
      " 20  Schedule                12582 non-null  object \n",
      " 21  Purpose.of.flight       82697 non-null  object \n",
      " 22  Air.carrier             16648 non-null  object \n",
      " 23  Total.Fatal.Injuries    77488 non-null  float64\n",
      " 24  Total.Serious.Injuries  76379 non-null  float64\n",
      " 25  Total.Minor.Injuries    76956 non-null  float64\n",
      " 26  Total.Uninjured         82977 non-null  float64\n",
      " 27  Weather.Condition       84397 non-null  object \n",
      " 28  Broad.phase.of.flight   61724 non-null  object \n",
      " 29  Report.Status           82508 non-null  object \n",
      " 30  Publication.Date        73659 non-null  object \n",
      "dtypes: float64(5), object(26)\n",
      "memory usage: 21.7+ MB\n"
     ]
    }
   ],
   "source": [
    "data_df=data_df.drop_duplicates()\n",
    "data_df.info()"
   ]
  },
  {
   "cell_type": "markdown",
   "metadata": {},
   "source": [
    "Still looking into the data there are columns that have null values that are too high and they would cause the \n",
    "analysis to be skewed or dont have enough data for our analysis. Schedule, Air Carrier and Far Description all have \n",
    "above 60% null values thus we drop them because of this."
   ]
  },
  {
   "cell_type": "code",
   "execution_count": 42,
   "metadata": {},
   "outputs": [],
   "source": [
    "data_df=data_df.drop(columns=['Schedule', 'Air.carrier', 'FAR.Description'])"
   ]
  },
  {
   "cell_type": "code",
   "execution_count": 43,
   "metadata": {},
   "outputs": [
    {
     "data": {
      "text/plain": [
       "array(['Stinson', 'Piper', 'Cessna', ..., 'James R Dernovsek',\n",
       "       'Orlican S R O', 'Royse Ralph L'], dtype=object)"
      ]
     },
     "execution_count": 43,
     "metadata": {},
     "output_type": "execute_result"
    }
   ],
   "source": [
    "data_df['Make'] = data_df['Make'].str.title()\n",
    "data_df['Make'].unique()"
   ]
  },
  {
   "cell_type": "markdown",
   "metadata": {},
   "source": [
    "### Feature Engineering"
   ]
  },
  {
   "cell_type": "markdown",
   "metadata": {},
   "source": [
    "It is noted that there are certain values in the make column that are duplicated however are the same. they are in different capitalization formats or have multiple names but all represent the same aeroplane make company. I therefore standardized them to ensure i am able to do an analysis of the proper make and model and not split makes that may be from the same category."
   ]
  },
  {
   "cell_type": "code",
   "execution_count": 50,
   "metadata": {},
   "outputs": [
    {
     "name": "stdout",
     "output_type": "stream",
     "text": [
      "Cessna              27215\n",
      "Piper               14946\n",
      "Beech                5462\n",
      "Bell                 3893\n",
      "Boeing               2833\n",
      "                    ...  \n",
      "Mareik-Bensen           1\n",
      "Duke Paul               1\n",
      "Shultz Jeffrey D        1\n",
      "Woodrow Larry W         1\n",
      "Vermeys                 1\n",
      "Name: Make, Length: 7450, dtype: int64\n"
     ]
    }
   ],
   "source": [
    "# Define a mapping for known manufacturers in sentence case\n",
    "make_standardized = {\n",
    "    'Cessna': 'Cessna',\n",
    "    'Piper': 'Piper',\n",
    "    'Boeing': 'Boeing',\n",
    "    'Bell': 'Bell',\n",
    "    'Beech':'Beech', \n",
    "    'Airbus': 'Airbus',\n",
    "    'Bombardier': 'Bombardier'\n",
    "}\n",
    "\n",
    "#Then iterate over the DataFrame and ensure the values are made standard\n",
    "for key, value in make_standardized.items():\n",
    "    data_df.loc[data_df['Make'].str.contains(key,case=False, na=False), 'Make'] = value\n",
    "\n",
    "print(data_df['Make'].value_counts()) "
   ]
  },
  {
   "cell_type": "markdown",
   "metadata": {},
   "source": [
    "For the task ahead as we are analysing an accident dataset we need new columns. We need to know the survival rate of the various planes we are investigating and to do that we need to know the total occupancy of the planes. this is calculted below."
   ]
  },
  {
   "cell_type": "code",
   "execution_count": 51,
   "metadata": {},
   "outputs": [],
   "source": [
    "#Calculate total occupants & survival rate\n",
    "data_df[\"Total_Occupants\"] =(data_df[\"Total.Fatal.Injuries\"] + data_df[\"Total.Serious.Injuries\"] + data_df[\"Total.Minor.Injuries\"] \n",
    "    + data_df[\"Total.Uninjured\"])\n",
    "\n",
    "data_df[\"Survival_Rate\"] = data_df[\"Total.Uninjured\"] / data_df[\"Total_Occupants\"]\n",
    "data_df[\"Survival_Rate\"] = data_df[\"Survival_Rate\"] * 100\n",
    "data_df[\"Survival_Rate\"].fillna(0, inplace=True)\n"
   ]
  },
  {
   "cell_type": "code",
   "execution_count": 52,
   "metadata": {},
   "outputs": [
    {
     "data": {
      "text/plain": [
       "count    88958.000000\n",
       "mean        47.779963\n",
       "std         48.834700\n",
       "min          0.000000\n",
       "25%          0.000000\n",
       "50%          5.882353\n",
       "75%        100.000000\n",
       "max        100.000000\n",
       "Name: Survival_Rate, dtype: float64"
      ]
     },
     "execution_count": 52,
     "metadata": {},
     "output_type": "execute_result"
    }
   ],
   "source": [
    "data_df['Survival_Rate'].describe()"
   ]
  },
  {
   "cell_type": "markdown",
   "metadata": {},
   "source": [
    "I also added a \"accident_count\" column for easier summation of the number of incidences that occur."
   ]
  },
  {
   "cell_type": "code",
   "execution_count": 54,
   "metadata": {},
   "outputs": [],
   "source": [
    "# Each row is one accident\n",
    "data_df['accident_count'] = 1\n"
   ]
  },
  {
   "cell_type": "markdown",
   "metadata": {},
   "source": [
    "I also created a column for the year that the incidents happened. I got this from the Event Date column to be precise. This column would allow to create a time-series plot to check on trends."
   ]
  },
  {
   "cell_type": "code",
   "execution_count": 102,
   "metadata": {},
   "outputs": [
    {
     "name": "stdout",
     "output_type": "stream",
     "text": [
      "1982    3593\n",
      "1983    3556\n",
      "1984    3457\n",
      "1985    3096\n",
      "1986    2880\n",
      "1987    2828\n",
      "1988    2730\n",
      "1989    2544\n",
      "1990    2518\n",
      "1991    2462\n",
      "1992    2355\n",
      "1993    2313\n",
      "1995    2309\n",
      "1994    2257\n",
      "1998    2226\n",
      "2000    2220\n",
      "1999    2209\n",
      "1996    2187\n",
      "1997    2148\n",
      "2003    2085\n",
      "2001    2063\n",
      "2005    2031\n",
      "2002    2020\n",
      "2007    2016\n",
      "2004    1952\n",
      "2008    1893\n",
      "2006    1851\n",
      "2011    1850\n",
      "2012    1835\n",
      "2010    1786\n",
      "2009    1783\n",
      "2018    1681\n",
      "2016    1664\n",
      "2017    1638\n",
      "2019    1624\n",
      "2022    1607\n",
      "2015    1582\n",
      "2013    1561\n",
      "2021    1545\n",
      "2014    1535\n",
      "2020    1392\n",
      "1979       2\n",
      "1977       1\n",
      "1948       1\n",
      "1981       1\n",
      "1962       1\n",
      "1974       1\n",
      "Name: Accident_Year, dtype: int64\n"
     ]
    },
    {
     "name": "stderr",
     "output_type": "stream",
     "text": [
      "<ipython-input-102-20eed88e5cc4>:11: SettingWithCopyWarning: \n",
      "A value is trying to be set on a copy of a slice from a DataFrame.\n",
      "Try using .loc[row_indexer,col_indexer] = value instead\n",
      "\n",
      "See the caveats in the documentation: https://pandas.pydata.org/pandas-docs/stable/user_guide/indexing.html#returning-a-view-versus-a-copy\n",
      "  data_df['Accident_Year'] = data_df['Accident_Year'].astype(int)\n"
     ]
    }
   ],
   "source": [
    "# Convert event date column to datetime\n",
    "\n",
    "data_df['Event_Date'] = pd.to_datetime(data_df['Event.Date'], errors='coerce')\n",
    "\n",
    "# Extract the year from the event date\n",
    "\n",
    "data_df['Accident_Year'] = data_df['Event_Date'].dt.year\n",
    "\n",
    "# Drop rows where Accident_Year is NaN before converting to integer\n",
    "data_df = data_df.dropna(subset=['Accident_Year'])\n",
    "data_df['Accident_Year'] = data_df['Accident_Year'].astype(int)\n",
    "\n",
    "print(data_df['Accident_Year'].describe())\n"
   ]
  },
  {
   "cell_type": "code",
   "execution_count": 57,
   "metadata": {},
   "outputs": [],
   "source": [
    "#create column that combines the make and the model for easier filtering\n",
    "data_df[\"Plane\"] = data_df[\"Make\"] + \" \" + data_df[\"Model\"]"
   ]
  },
  {
   "cell_type": "code",
   "execution_count": 58,
   "metadata": {},
   "outputs": [
    {
     "data": {
      "text/plain": [
       "Reciprocating      69530\n",
       "Turbo Shaft         3609\n",
       "Turbo Prop          3391\n",
       "Turbo Fan           2481\n",
       "Unknown             2051\n",
       "Turbo Jet            703\n",
       "None                  19\n",
       "Geared Turbofan       12\n",
       "Electric              10\n",
       "NONE                   2\n",
       "LR                     2\n",
       "Hybrid Rocket          1\n",
       "UNK                    1\n",
       "Name: Engine.Type, dtype: int64"
      ]
     },
     "execution_count": 58,
     "metadata": {},
     "output_type": "execute_result"
    }
   ],
   "source": [
    "data_df['Engine.Type'].value_counts()"
   ]
  },
  {
   "cell_type": "markdown",
   "metadata": {},
   "source": [
    "Also noted that the Engine type column has values that are in the same category so i standardized that also."
   ]
  },
  {
   "cell_type": "code",
   "execution_count": 59,
   "metadata": {},
   "outputs": [
    {
     "name": "stdout",
     "output_type": "stream",
     "text": [
      "Reciprocating      69530\n",
      "Turbo Shaft         3609\n",
      "Turbo Prop          3391\n",
      "Turbo Fan           2481\n",
      "Unknown             2072\n",
      "Turbo Jet            703\n",
      "Geared Turbofan       12\n",
      "Electric              10\n",
      "LR                     2\n",
      "Hybrid Rocket          1\n",
      "UNK                    1\n",
      "Name: Engine.Type, dtype: int64\n"
     ]
    }
   ],
   "source": [
    "engine_standardized = {\n",
    "    'Unknown': 'Unknown',\n",
    "    'None': 'Unknown'\n",
    "}\n",
    "\n",
    "\n",
    "for key, value in engine_standardized.items():\n",
    "    data_df.loc[data_df['Engine.Type'].str.contains(key,case=False, na=False), 'Engine.Type'] = value\n",
    "    \n",
    "data_df.loc[data_df['Engine.Type'].isin(['None', 'Unknown']), 'Engine.Type'] = 'Unknown'\n",
    "\n",
    "print(data_df['Engine.Type'].value_counts()) "
   ]
  },
  {
   "cell_type": "code",
   "execution_count": 60,
   "metadata": {},
   "outputs": [
    {
     "data": {
      "text/plain": [
       "Personal                     49448\n",
       "Instructional                10601\n",
       "Unknown                       6802\n",
       "Aerial Application            4712\n",
       "Business                      4018\n",
       "Positioning                   1646\n",
       "Other Work Use                1264\n",
       "Ferry                          812\n",
       "Aerial Observation             794\n",
       "Public Aircraft                720\n",
       "Executive/corporate            553\n",
       "Flight Test                    405\n",
       "Skydiving                      182\n",
       "External Load                  123\n",
       "Public Aircraft - Federal      105\n",
       "Banner Tow                     101\n",
       "Air Race show                   99\n",
       "Public Aircraft - Local         74\n",
       "Public Aircraft - State         64\n",
       "Air Race/show                   59\n",
       "Glider Tow                      53\n",
       "Firefighting                    40\n",
       "Air Drop                        11\n",
       "ASHO                             6\n",
       "PUBS                             4\n",
       "PUBL                             1\n",
       "Name: Purpose.of.flight, dtype: int64"
      ]
     },
     "execution_count": 60,
     "metadata": {},
     "output_type": "execute_result"
    }
   ],
   "source": [
    "data_df['Purpose.of.flight'].value_counts()"
   ]
  },
  {
   "cell_type": "markdown",
   "metadata": {},
   "source": [
    "Noted that Purpose of flight has data which are in the same category that may cause improper analysis. This column was also standardized."
   ]
  },
  {
   "cell_type": "code",
   "execution_count": 61,
   "metadata": {},
   "outputs": [
    {
     "name": "stdout",
     "output_type": "stream",
     "text": [
      "Personal               49448\n",
      "Instructional          10601\n",
      "Unknown                 6802\n",
      "Aerial Application      4712\n",
      "Business                4018\n",
      "Positioning             1646\n",
      "Other Work Use          1264\n",
      "Public Aircraft          963\n",
      "Ferry                    812\n",
      "Aerial Observation       794\n",
      "Executive/corporate      553\n",
      "Flight Test              405\n",
      "Skydiving                182\n",
      "Air Race show            158\n",
      "External Load            123\n",
      "Banner Tow               101\n",
      "Glider Tow                53\n",
      "Firefighting              40\n",
      "Air Drop                  11\n",
      "ASHO                       6\n",
      "PUBS                       4\n",
      "PUBL                       1\n",
      "Name: Purpose.of.flight, dtype: int64\n"
     ]
    }
   ],
   "source": [
    "# Merge purposes that seem similar\n",
    "data_df['Purpose.of.flight'] = data_df['Purpose.of.flight'].replace({\n",
    "    'Air Race/show': 'Air Race show'\n",
    "})\n",
    "public_aircraft_categories = {\n",
    "    'Public Aircraft - Federal': 'Public Aircraft',\n",
    "    'Public Aircraft - Local': 'Public Aircraft',\n",
    "    'Public Aircraft - State': 'Public Aircraft'\n",
    "}\n",
    "data_df['Purpose.of.flight'] = data_df['Purpose.of.flight'].replace(public_aircraft_categories)\n",
    "print(data_df['Purpose.of.flight'].value_counts())"
   ]
  },
  {
   "cell_type": "markdown",
   "metadata": {},
   "source": [
    "##  Data Analysis"
   ]
  },
  {
   "cell_type": "code",
   "execution_count": 62,
   "metadata": {},
   "outputs": [],
   "source": [
    "import matplotlib.pyplot as plt\n",
    "import seaborn as sns\n",
    "import numpy as np\n",
    "\n",
    "%matplotlib inline"
   ]
  },
  {
   "cell_type": "markdown",
   "metadata": {},
   "source": [
    "### Survival Rate Analysis"
   ]
  },
  {
   "cell_type": "markdown",
   "metadata": {},
   "source": [
    "The first analysis that I undertook was checking the top 10 aeroplane makes with the highest survival rate meaning the most uninjured passengers in the event of an accident.\n",
    "The analysis provided this list with the accompanying survival rate:\n",
    "\n",
    "    1. Piaggio - 95%\n",
    "    2. Cub Crafters Inc - 95%\n",
    "    3. American Legend Aircraft Co - 88%\n",
    "    4. Evektor-Aerotechnik As - 81%\n",
    "    5. Aviat Aircraft Inc - 78%\n",
    "    6. Costruzioni Aeronautiche Tecna - 76%\n",
    "    7. Snow - 75%\n",
    "    8. Thrush Aircraft Inc - 75%\n",
    "    9. Ultramagic - 72%\n",
    "    10. Helio - 71%"
   ]
  },
  {
   "cell_type": "code",
   "execution_count": 63,
   "metadata": {},
   "outputs": [
    {
     "data": {
      "text/html": [
       "<div>\n",
       "<style scoped>\n",
       "    .dataframe tbody tr th:only-of-type {\n",
       "        vertical-align: middle;\n",
       "    }\n",
       "\n",
       "    .dataframe tbody tr th {\n",
       "        vertical-align: top;\n",
       "    }\n",
       "\n",
       "    .dataframe thead th {\n",
       "        text-align: right;\n",
       "    }\n",
       "</style>\n",
       "<table border=\"1\" class=\"dataframe\">\n",
       "  <thead>\n",
       "    <tr style=\"text-align: right;\">\n",
       "      <th></th>\n",
       "      <th>Make</th>\n",
       "      <th>Survival_Rate</th>\n",
       "      <th>Total.Fatal.Injuries</th>\n",
       "      <th>Event.Id</th>\n",
       "    </tr>\n",
       "  </thead>\n",
       "  <tbody>\n",
       "    <tr>\n",
       "      <th>5132</th>\n",
       "      <td>Piaggio</td>\n",
       "      <td>95.000000</td>\n",
       "      <td>0.0</td>\n",
       "      <td>10</td>\n",
       "    </tr>\n",
       "    <tr>\n",
       "      <th>1529</th>\n",
       "      <td>Cub Crafters Inc</td>\n",
       "      <td>95.000000</td>\n",
       "      <td>0.0</td>\n",
       "      <td>20</td>\n",
       "    </tr>\n",
       "    <tr>\n",
       "      <th>286</th>\n",
       "      <td>American Legend Aircraft Co</td>\n",
       "      <td>88.235294</td>\n",
       "      <td>0.0</td>\n",
       "      <td>17</td>\n",
       "    </tr>\n",
       "    <tr>\n",
       "      <th>2151</th>\n",
       "      <td>Evektor-Aerotechnik As</td>\n",
       "      <td>81.666667</td>\n",
       "      <td>2.0</td>\n",
       "      <td>30</td>\n",
       "    </tr>\n",
       "    <tr>\n",
       "      <th>450</th>\n",
       "      <td>Aviat Aircraft Inc</td>\n",
       "      <td>78.571429</td>\n",
       "      <td>7.0</td>\n",
       "      <td>77</td>\n",
       "    </tr>\n",
       "    <tr>\n",
       "      <th>1447</th>\n",
       "      <td>Costruzioni Aeronautiche Tecna</td>\n",
       "      <td>76.470588</td>\n",
       "      <td>4.0</td>\n",
       "      <td>34</td>\n",
       "    </tr>\n",
       "    <tr>\n",
       "      <th>6249</th>\n",
       "      <td>Snow</td>\n",
       "      <td>75.757576</td>\n",
       "      <td>4.0</td>\n",
       "      <td>33</td>\n",
       "    </tr>\n",
       "    <tr>\n",
       "      <th>6713</th>\n",
       "      <td>Thrush Aircraft Inc</td>\n",
       "      <td>75.000000</td>\n",
       "      <td>1.0</td>\n",
       "      <td>12</td>\n",
       "    </tr>\n",
       "    <tr>\n",
       "      <th>6871</th>\n",
       "      <td>Ultramagic</td>\n",
       "      <td>72.167000</td>\n",
       "      <td>0.0</td>\n",
       "      <td>14</td>\n",
       "    </tr>\n",
       "    <tr>\n",
       "      <th>3023</th>\n",
       "      <td>Helio</td>\n",
       "      <td>71.668008</td>\n",
       "      <td>17.0</td>\n",
       "      <td>113</td>\n",
       "    </tr>\n",
       "  </tbody>\n",
       "</table>\n",
       "</div>"
      ],
      "text/plain": [
       "                                Make  Survival_Rate  Total.Fatal.Injuries  \\\n",
       "5132                         Piaggio      95.000000                   0.0   \n",
       "1529                Cub Crafters Inc      95.000000                   0.0   \n",
       "286      American Legend Aircraft Co      88.235294                   0.0   \n",
       "2151          Evektor-Aerotechnik As      81.666667                   2.0   \n",
       "450               Aviat Aircraft Inc      78.571429                   7.0   \n",
       "1447  Costruzioni Aeronautiche Tecna      76.470588                   4.0   \n",
       "6249                            Snow      75.757576                   4.0   \n",
       "6713             Thrush Aircraft Inc      75.000000                   1.0   \n",
       "6871                      Ultramagic      72.167000                   0.0   \n",
       "3023                           Helio      71.668008                  17.0   \n",
       "\n",
       "      Event.Id  \n",
       "5132        10  \n",
       "1529        20  \n",
       "286         17  \n",
       "2151        30  \n",
       "450         77  \n",
       "1447        34  \n",
       "6249        33  \n",
       "6713        12  \n",
       "6871        14  \n",
       "3023       113  "
      ]
     },
     "execution_count": 63,
     "metadata": {},
     "output_type": "execute_result"
    }
   ],
   "source": [
    "# Group by Make and compute the average survival rate\n",
    "make_survival = data_df.groupby('Make')['Survival_Rate'].mean().reset_index()\n",
    "\n",
    "# Sort by survival rate in descending order\n",
    "make_survival = make_survival.sort_values(by='Survival_Rate', ascending=False)\n",
    "make_survival['Survival_Rate']= make_survival['Survival_Rate']\n",
    "make_survival = stats_make[stats_make[\"Event.Id\"] >= 5] # ensure we analyse ones with multiple incidents\n",
    "\n",
    "# Display top 10 makes with highest survival rate\n",
    "make_survival.head(10)"
   ]
  },
  {
   "cell_type": "markdown",
   "metadata": {},
   "source": [
    "The analysis while giving info was insufficient as the various makes of aeroplanes contained multiple models and further investigation on specific models of the plane companies would prove more effective in giving the planes with the highest survival rate.\n",
    "This entailed grouping the data according to the make and model then comparing it to the survival rate. As expected the analysis gave models that were not specifically represented in the above analysis. \n",
    "The analysis also showed the need to incoporate the need for multiple incidents for analysis hence filtering was done as shown below."
   ]
  },
  {
   "cell_type": "code",
   "execution_count": 64,
   "metadata": {},
   "outputs": [],
   "source": [
    "stats_make_model= data_df.groupby([\"Make\", 'Model']).agg({\n",
    "    \"Survival_Rate\": \"mean\",\n",
    "    \"Total.Fatal.Injuries\": \"sum\",\n",
    "    \"Event.Id\": \"count\"  # proxy for incident count\n",
    "}).reset_index()\n",
    "# Filter out small-sample\n",
    "stats_make_model = stats_make_model[stats_make_model[\"Event.Id\"] >= 10]  # ensure we analyse ones with multiple incidents\n",
    "# Rank by Survival Rate\n",
    "stats_make_model.sort_values(\"Survival_Rate\", ascending=False, inplace=True)"
   ]
  },
  {
   "cell_type": "code",
   "execution_count": 65,
   "metadata": {},
   "outputs": [
    {
     "data": {
      "text/html": [
       "<div>\n",
       "<style scoped>\n",
       "    .dataframe tbody tr th:only-of-type {\n",
       "        vertical-align: middle;\n",
       "    }\n",
       "\n",
       "    .dataframe tbody tr th {\n",
       "        vertical-align: top;\n",
       "    }\n",
       "\n",
       "    .dataframe thead th {\n",
       "        text-align: right;\n",
       "    }\n",
       "</style>\n",
       "<table border=\"1\" class=\"dataframe\">\n",
       "  <thead>\n",
       "    <tr style=\"text-align: right;\">\n",
       "      <th></th>\n",
       "      <th>Make</th>\n",
       "      <th>Model</th>\n",
       "      <th>Survival_Rate</th>\n",
       "      <th>Total.Fatal.Injuries</th>\n",
       "      <th>Event.Id</th>\n",
       "    </tr>\n",
       "  </thead>\n",
       "  <tbody>\n",
       "    <tr>\n",
       "      <th>6571</th>\n",
       "      <td>Diamond Aircraft Ind Inc</td>\n",
       "      <td>DA 20 C1</td>\n",
       "      <td>100.000000</td>\n",
       "      <td>0.0</td>\n",
       "      <td>11</td>\n",
       "    </tr>\n",
       "    <tr>\n",
       "      <th>7145</th>\n",
       "      <td>Embraer</td>\n",
       "      <td>EMB145</td>\n",
       "      <td>98.990296</td>\n",
       "      <td>0.0</td>\n",
       "      <td>12</td>\n",
       "    </tr>\n",
       "    <tr>\n",
       "      <th>3166</th>\n",
       "      <td>Boeing</td>\n",
       "      <td>737 7H4</td>\n",
       "      <td>93.344959</td>\n",
       "      <td>1.0</td>\n",
       "      <td>16</td>\n",
       "    </tr>\n",
       "    <tr>\n",
       "      <th>3097</th>\n",
       "      <td>Boeing</td>\n",
       "      <td>727-224</td>\n",
       "      <td>92.478891</td>\n",
       "      <td>131.0</td>\n",
       "      <td>14</td>\n",
       "    </tr>\n",
       "    <tr>\n",
       "      <th>13268</th>\n",
       "      <td>Piper</td>\n",
       "      <td>PA-18A 150</td>\n",
       "      <td>91.666667</td>\n",
       "      <td>0.0</td>\n",
       "      <td>12</td>\n",
       "    </tr>\n",
       "    <tr>\n",
       "      <th>3095</th>\n",
       "      <td>Boeing</td>\n",
       "      <td>727-223</td>\n",
       "      <td>90.339169</td>\n",
       "      <td>141.0</td>\n",
       "      <td>18</td>\n",
       "    </tr>\n",
       "    <tr>\n",
       "      <th>14742</th>\n",
       "      <td>Rockwell International</td>\n",
       "      <td>114</td>\n",
       "      <td>90.000000</td>\n",
       "      <td>2.0</td>\n",
       "      <td>10</td>\n",
       "    </tr>\n",
       "    <tr>\n",
       "      <th>3417</th>\n",
       "      <td>Boeing</td>\n",
       "      <td>767-332</td>\n",
       "      <td>89.846724</td>\n",
       "      <td>0.0</td>\n",
       "      <td>11</td>\n",
       "    </tr>\n",
       "    <tr>\n",
       "      <th>7477</th>\n",
       "      <td>Evektor-Aerotechnik As</td>\n",
       "      <td>SPORTSTAR</td>\n",
       "      <td>89.473684</td>\n",
       "      <td>0.0</td>\n",
       "      <td>19</td>\n",
       "    </tr>\n",
       "    <tr>\n",
       "      <th>3183</th>\n",
       "      <td>Boeing</td>\n",
       "      <td>737-222</td>\n",
       "      <td>89.341509</td>\n",
       "      <td>78.0</td>\n",
       "      <td>15</td>\n",
       "    </tr>\n",
       "  </tbody>\n",
       "</table>\n",
       "</div>"
      ],
      "text/plain": [
       "                           Make       Model  Survival_Rate  \\\n",
       "6571   Diamond Aircraft Ind Inc    DA 20 C1     100.000000   \n",
       "7145                    Embraer      EMB145      98.990296   \n",
       "3166                     Boeing     737 7H4      93.344959   \n",
       "3097                     Boeing     727-224      92.478891   \n",
       "13268                     Piper  PA-18A 150      91.666667   \n",
       "3095                     Boeing     727-223      90.339169   \n",
       "14742    Rockwell International         114      90.000000   \n",
       "3417                     Boeing     767-332      89.846724   \n",
       "7477     Evektor-Aerotechnik As   SPORTSTAR      89.473684   \n",
       "3183                     Boeing     737-222      89.341509   \n",
       "\n",
       "       Total.Fatal.Injuries  Event.Id  \n",
       "6571                    0.0        11  \n",
       "7145                    0.0        12  \n",
       "3166                    1.0        16  \n",
       "3097                  131.0        14  \n",
       "13268                   0.0        12  \n",
       "3095                  141.0        18  \n",
       "14742                   2.0        10  \n",
       "3417                    0.0        11  \n",
       "7477                    0.0        19  \n",
       "3183                   78.0        15  "
      ]
     },
     "execution_count": 65,
     "metadata": {},
     "output_type": "execute_result"
    }
   ],
   "source": [
    "stats_make_model.head(10)"
   ]
  },
  {
   "cell_type": "markdown",
   "metadata": {},
   "source": [
    "As noted above due to the need to ensure analysis was done on multiple stages of data, I increased the criteria from top 10 to top 20 to ensure enough data was analyzed to allow for a more informed decision making process.\n",
    "The analysis done below showed that the top 20 planes had a survival rate ranging from 100% to 80% which is quite high and would offer confidence to customers if these were the planes that were in the portfolio."
   ]
  },
  {
   "cell_type": "code",
   "execution_count": 66,
   "metadata": {},
   "outputs": [
    {
     "data": {
      "image/png": "[encoded data removed]",
      "text/plain": [
       "<Figure size 864x432 with 1 Axes>"
      ]
     },
     "metadata": {
      "needs_background": "light"
     },
     "output_type": "display_data"
    }
   ],
   "source": [
    "# Calculate group size for each Make/Model \n",
    "group_sizes = data_df.groupby([\"Make\", \"Model\"]).size().reset_index(name=\"incident_count\")\n",
    "\n",
    "# Group by Make and Model and compute the average Survival_Rate for each plane type\n",
    "survival_by_plane = data_df.groupby([\"Make\", \"Model\"], as_index=False)[\"Survival_Rate\"].mean()\n",
    "\n",
    "# Merge the group size information with the survival rate according to make and model\n",
    "survival_by_plane = survival_by_plane.merge(group_sizes, on=[\"Make\", \"Model\"])\n",
    "\n",
    "# Filter out plane types with fewer incidents to ensure proper analysis.\n",
    "survival_by_plane = survival_by_plane[survival_by_plane[\"incident_count\"] >= 10]\n",
    "\n",
    "# Sort the groups in descending order by Survival_Rate and take the top 20\n",
    "top20_survival = survival_by_plane.sort_values(\"Survival_Rate\", ascending=False).head(20)\n",
    "\n",
    "\n",
    "# Create a new column for the combined label of Make and Model for the x-axis\n",
    "top20_survival[\"Plane\"] = top20_survival[\"Make\"] + \" \" + top20_survival[\"Model\"]\n",
    "\n",
    "# Plotting the bar chart\n",
    "plt.figure(figsize=(12,6))\n",
    "plt.bar(top20_survival[\"Plane\"], top20_survival[\"Survival_Rate\"], color='skyblue')\n",
    "plt.xticks(rotation=45, ha='right')\n",
    "plt.xlabel(\"Plane (Make and Model)\")\n",
    "plt.ylabel(\"Survival Rate\")\n",
    "plt.title(\"Top 20 Planes by Survival Rate\")\n",
    "plt.tight_layout()\n",
    "plt.show()\n"
   ]
  },
  {
   "cell_type": "markdown",
   "metadata": {},
   "source": [
    "The Top 20 list with the corresponding survival rate can be seen below."
   ]
  },
  {
   "cell_type": "code",
   "execution_count": 67,
   "metadata": {},
   "outputs": [
    {
     "data": {
      "text/html": [
       "<div>\n",
       "<style scoped>\n",
       "    .dataframe tbody tr th:only-of-type {\n",
       "        vertical-align: middle;\n",
       "    }\n",
       "\n",
       "    .dataframe tbody tr th {\n",
       "        vertical-align: top;\n",
       "    }\n",
       "\n",
       "    .dataframe thead th {\n",
       "        text-align: right;\n",
       "    }\n",
       "</style>\n",
       "<table border=\"1\" class=\"dataframe\">\n",
       "  <thead>\n",
       "    <tr style=\"text-align: right;\">\n",
       "      <th></th>\n",
       "      <th>Make</th>\n",
       "      <th>Model</th>\n",
       "      <th>Survival_Rate</th>\n",
       "      <th>incident_count</th>\n",
       "      <th>Plane</th>\n",
       "    </tr>\n",
       "  </thead>\n",
       "  <tbody>\n",
       "    <tr>\n",
       "      <th>6571</th>\n",
       "      <td>Diamond Aircraft Ind Inc</td>\n",
       "      <td>DA 20 C1</td>\n",
       "      <td>100.000000</td>\n",
       "      <td>11</td>\n",
       "      <td>Diamond Aircraft Ind Inc DA 20 C1</td>\n",
       "    </tr>\n",
       "    <tr>\n",
       "      <th>7145</th>\n",
       "      <td>Embraer</td>\n",
       "      <td>EMB145</td>\n",
       "      <td>98.990296</td>\n",
       "      <td>12</td>\n",
       "      <td>Embraer EMB145</td>\n",
       "    </tr>\n",
       "    <tr>\n",
       "      <th>3166</th>\n",
       "      <td>Boeing</td>\n",
       "      <td>737 7H4</td>\n",
       "      <td>93.344959</td>\n",
       "      <td>16</td>\n",
       "      <td>Boeing 737 7H4</td>\n",
       "    </tr>\n",
       "    <tr>\n",
       "      <th>3097</th>\n",
       "      <td>Boeing</td>\n",
       "      <td>727-224</td>\n",
       "      <td>92.478891</td>\n",
       "      <td>14</td>\n",
       "      <td>Boeing 727-224</td>\n",
       "    </tr>\n",
       "    <tr>\n",
       "      <th>13268</th>\n",
       "      <td>Piper</td>\n",
       "      <td>PA-18A 150</td>\n",
       "      <td>91.666667</td>\n",
       "      <td>12</td>\n",
       "      <td>Piper PA-18A 150</td>\n",
       "    </tr>\n",
       "    <tr>\n",
       "      <th>3095</th>\n",
       "      <td>Boeing</td>\n",
       "      <td>727-223</td>\n",
       "      <td>90.339169</td>\n",
       "      <td>18</td>\n",
       "      <td>Boeing 727-223</td>\n",
       "    </tr>\n",
       "    <tr>\n",
       "      <th>14742</th>\n",
       "      <td>Rockwell International</td>\n",
       "      <td>114</td>\n",
       "      <td>90.000000</td>\n",
       "      <td>10</td>\n",
       "      <td>Rockwell International 114</td>\n",
       "    </tr>\n",
       "    <tr>\n",
       "      <th>3417</th>\n",
       "      <td>Boeing</td>\n",
       "      <td>767-332</td>\n",
       "      <td>89.846724</td>\n",
       "      <td>11</td>\n",
       "      <td>Boeing 767-332</td>\n",
       "    </tr>\n",
       "    <tr>\n",
       "      <th>7477</th>\n",
       "      <td>Evektor-Aerotechnik As</td>\n",
       "      <td>SPORTSTAR</td>\n",
       "      <td>89.473684</td>\n",
       "      <td>19</td>\n",
       "      <td>Evektor-Aerotechnik As SPORTSTAR</td>\n",
       "    </tr>\n",
       "    <tr>\n",
       "      <th>3183</th>\n",
       "      <td>Boeing</td>\n",
       "      <td>737-222</td>\n",
       "      <td>89.341509</td>\n",
       "      <td>15</td>\n",
       "      <td>Boeing 737-222</td>\n",
       "    </tr>\n",
       "    <tr>\n",
       "      <th>3107</th>\n",
       "      <td>Boeing</td>\n",
       "      <td>727-232</td>\n",
       "      <td>88.452972</td>\n",
       "      <td>19</td>\n",
       "      <td>Boeing 727-232</td>\n",
       "    </tr>\n",
       "    <tr>\n",
       "      <th>11238</th>\n",
       "      <td>Maule</td>\n",
       "      <td>M-4</td>\n",
       "      <td>88.333333</td>\n",
       "      <td>20</td>\n",
       "      <td>Maule M-4</td>\n",
       "    </tr>\n",
       "    <tr>\n",
       "      <th>11939</th>\n",
       "      <td>Mitsubishi</td>\n",
       "      <td>MU-2B-20</td>\n",
       "      <td>86.060606</td>\n",
       "      <td>11</td>\n",
       "      <td>Mitsubishi MU-2B-20</td>\n",
       "    </tr>\n",
       "    <tr>\n",
       "      <th>10890</th>\n",
       "      <td>Lockheed</td>\n",
       "      <td>L-1011-385-1</td>\n",
       "      <td>86.051369</td>\n",
       "      <td>15</td>\n",
       "      <td>Lockheed L-1011-385-1</td>\n",
       "    </tr>\n",
       "    <tr>\n",
       "      <th>13167</th>\n",
       "      <td>Piper</td>\n",
       "      <td>PA 22</td>\n",
       "      <td>85.714286</td>\n",
       "      <td>14</td>\n",
       "      <td>Piper PA 22</td>\n",
       "    </tr>\n",
       "    <tr>\n",
       "      <th>3098</th>\n",
       "      <td>Boeing</td>\n",
       "      <td>727-225</td>\n",
       "      <td>85.314286</td>\n",
       "      <td>14</td>\n",
       "      <td>Boeing 727-225</td>\n",
       "    </tr>\n",
       "    <tr>\n",
       "      <th>13148</th>\n",
       "      <td>Piper</td>\n",
       "      <td>PA 12</td>\n",
       "      <td>85.135135</td>\n",
       "      <td>37</td>\n",
       "      <td>Piper PA 12</td>\n",
       "    </tr>\n",
       "    <tr>\n",
       "      <th>11516</th>\n",
       "      <td>Mcdonnell Douglas</td>\n",
       "      <td>DC-9-31</td>\n",
       "      <td>85.078039</td>\n",
       "      <td>17</td>\n",
       "      <td>Mcdonnell Douglas DC-9-31</td>\n",
       "    </tr>\n",
       "    <tr>\n",
       "      <th>11574</th>\n",
       "      <td>Mcdonnell Douglas</td>\n",
       "      <td>MD-80</td>\n",
       "      <td>84.620033</td>\n",
       "      <td>16</td>\n",
       "      <td>Mcdonnell Douglas MD-80</td>\n",
       "    </tr>\n",
       "    <tr>\n",
       "      <th>1210</th>\n",
       "      <td>American Legend Aircraft Co</td>\n",
       "      <td>AL3</td>\n",
       "      <td>84.615385</td>\n",
       "      <td>13</td>\n",
       "      <td>American Legend Aircraft Co AL3</td>\n",
       "    </tr>\n",
       "  </tbody>\n",
       "</table>\n",
       "</div>"
      ],
      "text/plain": [
       "                              Make         Model  Survival_Rate  \\\n",
       "6571      Diamond Aircraft Ind Inc      DA 20 C1     100.000000   \n",
       "7145                       Embraer        EMB145      98.990296   \n",
       "3166                        Boeing       737 7H4      93.344959   \n",
       "3097                        Boeing       727-224      92.478891   \n",
       "13268                        Piper    PA-18A 150      91.666667   \n",
       "3095                        Boeing       727-223      90.339169   \n",
       "14742       Rockwell International           114      90.000000   \n",
       "3417                        Boeing       767-332      89.846724   \n",
       "7477        Evektor-Aerotechnik As     SPORTSTAR      89.473684   \n",
       "3183                        Boeing       737-222      89.341509   \n",
       "3107                        Boeing       727-232      88.452972   \n",
       "11238                        Maule           M-4      88.333333   \n",
       "11939                   Mitsubishi      MU-2B-20      86.060606   \n",
       "10890                     Lockheed  L-1011-385-1      86.051369   \n",
       "13167                        Piper         PA 22      85.714286   \n",
       "3098                        Boeing       727-225      85.314286   \n",
       "13148                        Piper         PA 12      85.135135   \n",
       "11516            Mcdonnell Douglas       DC-9-31      85.078039   \n",
       "11574            Mcdonnell Douglas         MD-80      84.620033   \n",
       "1210   American Legend Aircraft Co           AL3      84.615385   \n",
       "\n",
       "       incident_count                              Plane  \n",
       "6571               11  Diamond Aircraft Ind Inc DA 20 C1  \n",
       "7145               12                     Embraer EMB145  \n",
       "3166               16                     Boeing 737 7H4  \n",
       "3097               14                     Boeing 727-224  \n",
       "13268              12                   Piper PA-18A 150  \n",
       "3095               18                     Boeing 727-223  \n",
       "14742              10         Rockwell International 114  \n",
       "3417               11                     Boeing 767-332  \n",
       "7477               19   Evektor-Aerotechnik As SPORTSTAR  \n",
       "3183               15                     Boeing 737-222  \n",
       "3107               19                     Boeing 727-232  \n",
       "11238              20                          Maule M-4  \n",
       "11939              11                Mitsubishi MU-2B-20  \n",
       "10890              15              Lockheed L-1011-385-1  \n",
       "13167              14                        Piper PA 22  \n",
       "3098               14                     Boeing 727-225  \n",
       "13148              37                        Piper PA 12  \n",
       "11516              17          Mcdonnell Douglas DC-9-31  \n",
       "11574              16            Mcdonnell Douglas MD-80  \n",
       "1210               13    American Legend Aircraft Co AL3  "
      ]
     },
     "execution_count": 67,
     "metadata": {},
     "output_type": "execute_result"
    }
   ],
   "source": [
    "top20_survival"
   ]
  },
  {
   "cell_type": "markdown",
   "metadata": {},
   "source": [
    "From the analysis above further investigation I undertook to be able to rank the top 10 planes but incorporate the data on Aircraft damage. This would allow to show planes that are in an accident are able to ensure high survival rate and also mitigate the damage to the plane for possible reduced repair costs which would directly affect the insurance premiums.\n",
    "I used the list generated from above with the Top 20 list and analysed the condition the planes were in after accidents. Substantial damage was the common trope that was noted in the list."
   ]
  },
  {
   "cell_type": "code",
   "execution_count": 69,
   "metadata": {},
   "outputs": [
    {
     "data": {
      "text/plain": [
       "<Figure size 864x504 with 0 Axes>"
      ]
     },
     "metadata": {},
     "output_type": "display_data"
    },
    {
     "data": {
      "image/png": "[encoded data removed]",
      "text/plain": [
       "<Figure size 864x504 with 1 Axes>"
      ]
     },
     "metadata": {
      "needs_background": "light"
     },
     "output_type": "display_data"
    }
   ],
   "source": [
    "top20_planes = top20_survival[\"Plane\"].tolist()\n",
    "\n",
    "\n",
    "# Filter the main DataFrame to include only the top 20 planes according to the survival rate\n",
    "filtered_data = data_df[data_df[\"Plane\"].isin(top20_planes)]\n",
    "\n",
    "# Group by Plane and Aircraft.damage and sum the accident counts\n",
    "damage_stats = filtered_data.groupby([\"Plane\", \"Aircraft.damage\"], as_index=False)[\"accident_count\"].sum()\n",
    "\n",
    "# Pivot the table so that rows are planes and columns are damage categories\n",
    "pivot_damage = damage_stats.pivot(index=\"Plane\", columns=\"Aircraft.damage\", values=\"accident_count\").fillna(0)\n",
    "\n",
    "# sort the rows to match the order in the previous top20_survival df\n",
    "pivot_damage = pivot_damage.reindex(top20_planes)\n",
    "\n",
    "# Plot a stacked bar chart\n",
    "plt.figure(figsize=(12,7))\n",
    "pivot_damage.plot(kind=\"bar\", stacked=True, figsize=(12,7))\n",
    "plt.xlabel(\"Plane (Make and Model)\")\n",
    "plt.ylabel(\"Accident Count\")\n",
    "plt.title(\"Aircraft Damage Breakdown for Top 20 Planes by Survival Rate\")\n",
    "plt.xticks(rotation=45, ha=\"right\")\n",
    "plt.tight_layout()\n",
    "plt.show()"
   ]
  },
  {
   "cell_type": "markdown",
   "metadata": {},
   "source": [
    "After plotting the list I did a ranking with the list to furthermore look for the plane with high survival rate while being able to ensure there was minor damage to the plane and onward to planes with less substantial damage acount and finally planes that were fully destroyed ranked in the last group"
   ]
  },
  {
   "cell_type": "code",
   "execution_count": 72,
   "metadata": {},
   "outputs": [
    {
     "data": {
      "text/html": [
       "<div>\n",
       "<style scoped>\n",
       "    .dataframe tbody tr th:only-of-type {\n",
       "        vertical-align: middle;\n",
       "    }\n",
       "\n",
       "    .dataframe tbody tr th {\n",
       "        vertical-align: top;\n",
       "    }\n",
       "\n",
       "    .dataframe thead th {\n",
       "        text-align: right;\n",
       "    }\n",
       "</style>\n",
       "<table border=\"1\" class=\"dataframe\">\n",
       "  <thead>\n",
       "    <tr style=\"text-align: right;\">\n",
       "      <th>Aircraft.damage</th>\n",
       "      <th>Destroyed</th>\n",
       "      <th>Minor</th>\n",
       "      <th>Substantial</th>\n",
       "    </tr>\n",
       "    <tr>\n",
       "      <th>Plane</th>\n",
       "      <th></th>\n",
       "      <th></th>\n",
       "      <th></th>\n",
       "    </tr>\n",
       "  </thead>\n",
       "  <tbody>\n",
       "    <tr>\n",
       "      <th>Boeing 727-223</th>\n",
       "      <td>1.0</td>\n",
       "      <td>12.0</td>\n",
       "      <td>1.0</td>\n",
       "    </tr>\n",
       "    <tr>\n",
       "      <th>Boeing 727-232</th>\n",
       "      <td>3.0</td>\n",
       "      <td>10.0</td>\n",
       "      <td>2.0</td>\n",
       "    </tr>\n",
       "    <tr>\n",
       "      <th>Mcdonnell Douglas MD-80</th>\n",
       "      <td>0.0</td>\n",
       "      <td>7.0</td>\n",
       "      <td>4.0</td>\n",
       "    </tr>\n",
       "    <tr>\n",
       "      <th>Boeing 727-225</th>\n",
       "      <td>1.0</td>\n",
       "      <td>6.0</td>\n",
       "      <td>2.0</td>\n",
       "    </tr>\n",
       "    <tr>\n",
       "      <th>Boeing 727-224</th>\n",
       "      <td>1.0</td>\n",
       "      <td>6.0</td>\n",
       "      <td>3.0</td>\n",
       "    </tr>\n",
       "    <tr>\n",
       "      <th>Mcdonnell Douglas DC-9-31</th>\n",
       "      <td>1.0</td>\n",
       "      <td>6.0</td>\n",
       "      <td>7.0</td>\n",
       "    </tr>\n",
       "    <tr>\n",
       "      <th>Lockheed L-1011-385-1</th>\n",
       "      <td>2.0</td>\n",
       "      <td>5.0</td>\n",
       "      <td>2.0</td>\n",
       "    </tr>\n",
       "    <tr>\n",
       "      <th>Boeing 737-222</th>\n",
       "      <td>2.0</td>\n",
       "      <td>3.0</td>\n",
       "      <td>2.0</td>\n",
       "    </tr>\n",
       "    <tr>\n",
       "      <th>Embraer EMB145</th>\n",
       "      <td>0.0</td>\n",
       "      <td>3.0</td>\n",
       "      <td>5.0</td>\n",
       "    </tr>\n",
       "    <tr>\n",
       "      <th>Boeing 767-332</th>\n",
       "      <td>0.0</td>\n",
       "      <td>2.0</td>\n",
       "      <td>1.0</td>\n",
       "    </tr>\n",
       "    <tr>\n",
       "      <th>Boeing 737 7H4</th>\n",
       "      <td>0.0</td>\n",
       "      <td>2.0</td>\n",
       "      <td>4.0</td>\n",
       "    </tr>\n",
       "    <tr>\n",
       "      <th>Mitsubishi MU-2B-20</th>\n",
       "      <td>2.0</td>\n",
       "      <td>1.0</td>\n",
       "      <td>8.0</td>\n",
       "    </tr>\n",
       "    <tr>\n",
       "      <th>Rockwell International 114</th>\n",
       "      <td>0.0</td>\n",
       "      <td>1.0</td>\n",
       "      <td>9.0</td>\n",
       "    </tr>\n",
       "    <tr>\n",
       "      <th>Diamond Aircraft Ind Inc DA 20 C1</th>\n",
       "      <td>0.0</td>\n",
       "      <td>1.0</td>\n",
       "      <td>10.0</td>\n",
       "    </tr>\n",
       "    <tr>\n",
       "      <th>Piper PA-18A 150</th>\n",
       "      <td>0.0</td>\n",
       "      <td>0.0</td>\n",
       "      <td>12.0</td>\n",
       "    </tr>\n",
       "    <tr>\n",
       "      <th>American Legend Aircraft Co AL3</th>\n",
       "      <td>0.0</td>\n",
       "      <td>0.0</td>\n",
       "      <td>13.0</td>\n",
       "    </tr>\n",
       "    <tr>\n",
       "      <th>Piper PA 22</th>\n",
       "      <td>1.0</td>\n",
       "      <td>0.0</td>\n",
       "      <td>13.0</td>\n",
       "    </tr>\n",
       "    <tr>\n",
       "      <th>Evektor-Aerotechnik As SPORTSTAR</th>\n",
       "      <td>0.0</td>\n",
       "      <td>0.0</td>\n",
       "      <td>19.0</td>\n",
       "    </tr>\n",
       "    <tr>\n",
       "      <th>Maule M-4</th>\n",
       "      <td>1.0</td>\n",
       "      <td>0.0</td>\n",
       "      <td>19.0</td>\n",
       "    </tr>\n",
       "    <tr>\n",
       "      <th>Piper PA 12</th>\n",
       "      <td>2.0</td>\n",
       "      <td>0.0</td>\n",
       "      <td>35.0</td>\n",
       "    </tr>\n",
       "  </tbody>\n",
       "</table>\n",
       "</div>"
      ],
      "text/plain": [
       "Aircraft.damage                    Destroyed  Minor  Substantial\n",
       "Plane                                                           \n",
       "Boeing 727-223                           1.0   12.0          1.0\n",
       "Boeing 727-232                           3.0   10.0          2.0\n",
       "Mcdonnell Douglas MD-80                  0.0    7.0          4.0\n",
       "Boeing 727-225                           1.0    6.0          2.0\n",
       "Boeing 727-224                           1.0    6.0          3.0\n",
       "Mcdonnell Douglas DC-9-31                1.0    6.0          7.0\n",
       "Lockheed L-1011-385-1                    2.0    5.0          2.0\n",
       "Boeing 737-222                           2.0    3.0          2.0\n",
       "Embraer EMB145                           0.0    3.0          5.0\n",
       "Boeing 767-332                           0.0    2.0          1.0\n",
       "Boeing 737 7H4                           0.0    2.0          4.0\n",
       "Mitsubishi MU-2B-20                      2.0    1.0          8.0\n",
       "Rockwell International 114               0.0    1.0          9.0\n",
       "Diamond Aircraft Ind Inc DA 20 C1        0.0    1.0         10.0\n",
       "Piper PA-18A 150                         0.0    0.0         12.0\n",
       "American Legend Aircraft Co AL3          0.0    0.0         13.0\n",
       "Piper PA 22                              1.0    0.0         13.0\n",
       "Evektor-Aerotechnik As SPORTSTAR         0.0    0.0         19.0\n",
       "Maule M-4                                1.0    0.0         19.0\n",
       "Piper PA 12                              2.0    0.0         35.0"
      ]
     },
     "execution_count": 72,
     "metadata": {},
     "output_type": "execute_result"
    }
   ],
   "source": [
    "#Sort the data so that we can see the planes in top 20 with highest minor damage first, less substantial damage second \n",
    "# and less fully damaged last \n",
    "top20_sorted_by_damage = pivot_damage.sort_values(\n",
    "    by=[\"Minor\", \"Substantial\", \"Destroyed\"],\n",
    "    ascending=[False, True, True]\n",
    ")\n",
    "\n",
    "top20_sorted_by_damage"
   ]
  },
  {
   "cell_type": "markdown",
   "metadata": {},
   "source": [
    "### Operational Analysis."
   ]
  },
  {
   "cell_type": "markdown",
   "metadata": {},
   "source": [
    "Did analysis focusing on operational side of the aviation business.\n",
    "Began by undertaking a plot to show the various Flight Purposes that were noted in the various accidents. then analysed to see the various flight purposes that resulted in higher accident count. This will inform the company when selecting the specific flight purposes that they will offer services for."
   ]
  },
  {
   "cell_type": "code",
   "execution_count": 73,
   "metadata": {},
   "outputs": [
    {
     "data": {
      "image/png": "[encoded data removed]",
      "text/plain": [
       "<Figure size 864x432 with 1 Axes>"
      ]
     },
     "metadata": {
      "needs_background": "light"
     },
     "output_type": "display_data"
    }
   ],
   "source": [
    "# Group by Purpose.of.flight and sum the accident_count for each category\n",
    "accidents_by_purpose = data_df.groupby(\"Purpose.of.flight\", as_index=False)[\"accident_count\"].sum()\n",
    "\n",
    "# Sort the groups in descending order by accident_count\n",
    "accidents_by_purpose.sort_values(\"accident_count\", ascending=False, inplace=True)\n",
    "\n",
    "# Plot a bar chart\n",
    "plt.figure(figsize=(12,6))\n",
    "plt.bar(accidents_by_purpose[\"Purpose.of.flight\"], accidents_by_purpose[\"accident_count\"], color='skyblue')\n",
    "plt.xticks(rotation=45, ha='right')\n",
    "plt.xlabel(\"Purpose of Flight\")\n",
    "plt.ylabel(\"Accident Count\")\n",
    "plt.title(\"Accident Count by Purpose of Flight\")\n",
    "plt.tight_layout()\n",
    "plt.show()\n"
   ]
  },
  {
   "cell_type": "markdown",
   "metadata": {},
   "source": [
    "In the same Operational analysis I looked into the broad phase of flight, which provides info on the phase of flight that the accident occurred. This was done with reference to the accident count to find the phase of flight with high accident occurences.\n",
    "This info will allow for proper traing in the specific areas namely landing, takeoff cruising etc to ensure special care is taken during these phases and also a regiment for more training for operators on these phases to ensure that the risks would be reduced."
   ]
  },
  {
   "cell_type": "code",
   "execution_count": 74,
   "metadata": {},
   "outputs": [
    {
     "data": {
      "image/png": "[encoded data removed]",
      "text/plain": [
       "<Figure size 864x432 with 1 Axes>"
      ]
     },
     "metadata": {
      "needs_background": "light"
     },
     "output_type": "display_data"
    }
   ],
   "source": [
    "# Group the data by Broad.phase.of.flight and sum the accident counts\n",
    "phase_accidents = data_df.groupby(\"Broad.phase.of.flight\", as_index=False)[\"accident_count\"].sum()\n",
    "\n",
    "# Optionally, sort by accident count in descending order to see the phases with the most accidents first\n",
    "phase_accidents.sort_values(\"accident_count\", ascending=False, inplace=True)\n",
    "\n",
    "# Plot a bar chart\n",
    "plt.figure(figsize=(12,6))\n",
    "plt.bar(phase_accidents[\"Broad.phase.of.flight\"], phase_accidents[\"accident_count\"], color='skyblue')\n",
    "plt.xlabel(\"Broad Phase of Flight\")\n",
    "plt.ylabel(\"Accident Count\")\n",
    "plt.title(\"Accident Count by Broad Phase of Flight\")\n",
    "plt.xticks(rotation=45, ha='right')\n",
    "plt.tight_layout()\n",
    "plt.show()\n"
   ]
  },
  {
   "cell_type": "markdown",
   "metadata": {},
   "source": [
    "###  Plane Characteristics"
   ]
  },
  {
   "cell_type": "markdown",
   "metadata": {},
   "source": [
    "The next step would to look into the plane characteristics that were provided in the data from the National Transportation Safety Board being the Amateur built status, Engine type and No of engines.\n",
    "Analyzed all three characteristics separately and according to the accident count, whilst using the beforementioned top 20 list according to survival rate.\n",
    "This would allow to know the specific recipe of characteristics that appear in the top 20 list that ultimstely lead to high survival rate."
   ]
  },
  {
   "cell_type": "markdown",
   "metadata": {},
   "source": [
    "On checking on the Amateur Built status it was noted predominantly that planes that were **NOT** amateur built are the only ones that appear. "
   ]
  },
  {
   "cell_type": "code",
   "execution_count": 75,
   "metadata": {},
   "outputs": [
    {
     "data": {
      "text/plain": [
       "<Figure size 864x504 with 0 Axes>"
      ]
     },
     "metadata": {},
     "output_type": "display_data"
    },
    {
     "data": {
      "image/png": "[encoded data removed]",
      "text/plain": [
       "<Figure size 864x504 with 1 Axes>"
      ]
     },
     "metadata": {
      "needs_background": "light"
     },
     "output_type": "display_data"
    }
   ],
   "source": [
    "# Group by Plane and Amateur Built and sum the accident_count\n",
    "grouped_amateur = top20_data.groupby([\"Plane\", \"Amateur Built\"], as_index=False)[\"accident_count\"].sum()\n",
    "\n",
    "# Pivot the table so that rows are Plane and columns are the two Amateur Built categories\n",
    "pivot_amateur = grouped_amateur.pivot(index=\"Plane\", columns=\"Amateur Built\", values=\"accident_count\").fillna(0)\n",
    "\n",
    "# Reorder rows to match the order in your top10_survival DataFrame\n",
    "pivot_amateur = pivot_amateur.reindex(top20_planes)\n",
    "\n",
    "# Plot a stacked bar chart\n",
    "plt.figure(figsize=(12,7))\n",
    "pivot_amateur.plot(kind=\"bar\", stacked=True, figsize=(12,7))\n",
    "plt.xlabel(\"Plane (Make and Model)\")\n",
    "plt.ylabel(\"Accident Count\")\n",
    "plt.title(\"Accident Counts by Amateur Built Status\\nfor Top 10 Planes by Survival Rate\")\n",
    "plt.xticks(rotation=45, ha=\"right\")\n",
    "plt.tight_layout()\n",
    "plt.show()\n"
   ]
  },
  {
   "cell_type": "markdown",
   "metadata": {},
   "source": [
    "Looking into the Engine Type it was noted that the **Turbo Fan** engine type appeared more in the top 20 list."
   ]
  },
  {
   "cell_type": "code",
   "execution_count": 77,
   "metadata": {},
   "outputs": [
    {
     "data": {
      "text/plain": [
       "<Figure size 864x504 with 0 Axes>"
      ]
     },
     "metadata": {},
     "output_type": "display_data"
    },
    {
     "data": {
      "image/png": "[encoded data removed]",
      "text/plain": [
       "<Figure size 864x504 with 1 Axes>"
      ]
     },
     "metadata": {
      "needs_background": "light"
     },
     "output_type": "display_data"
    }
   ],
   "source": [
    "# Group by Plane and Engine.Type and sum the accident counts.\n",
    "grouped_engine = filtered_data.groupby([\"Plane\", \"Engine.Type\"], as_index=False)[\"accident_count\"].sum()\n",
    "\n",
    "# Pivot the table so that each row is a Plane and each column is an Engine.Type.\n",
    "pivot_engine = grouped_engine.pivot(index=\"Plane\", columns=\"Engine.Type\", values=\"accident_count\").fillna(0)\n",
    "\n",
    "# Reorder the rows to match the order in your top20_survival DataFrame.\n",
    "pivot_engine = pivot_engine.reindex(top20_planes)\n",
    "\n",
    "# Plot a stacked bar chart.\n",
    "plt.figure(figsize=(12,7))\n",
    "pivot_engine.plot(kind=\"bar\", stacked=True, figsize=(12,7))\n",
    "plt.xlabel(\"Plane (Make and Model)\")\n",
    "plt.ylabel(\"Accident Count\")\n",
    "plt.title(\"Accident Counts by Engine Type for Top 20 Planes by Survival Rate\")\n",
    "plt.xticks(rotation=45, ha=\"right\")\n",
    "plt.tight_layout()\n",
    "plt.show()\n"
   ]
  },
  {
   "cell_type": "markdown",
   "metadata": {},
   "source": [
    "Looking into the Number of Engines in the top 20 list it is noted that planes with 1 engine appear more in the list."
   ]
  },
  {
   "cell_type": "code",
   "execution_count": 78,
   "metadata": {},
   "outputs": [
    {
     "data": {
      "text/plain": [
       "<Figure size 864x504 with 0 Axes>"
      ]
     },
     "metadata": {},
     "output_type": "display_data"
    },
    {
     "data": {
      "image/png": "[encoded data removed]",
      "text/plain": [
       "<Figure size 864x504 with 1 Axes>"
      ]
     },
     "metadata": {
      "needs_background": "light"
     },
     "output_type": "display_data"
    }
   ],
   "source": [
    "\n",
    "# Group by Plane and Number.of.Engines and sum the accident_count for each group.\n",
    "grouped_engines = filtered_data.groupby([\"Plane\", \"Number.of.Engines\"], as_index=False)[\"accident_count\"].sum()\n",
    "\n",
    "# Pivot the table so that rows are Plane and columns are different values of Number.of.Engines.\n",
    "pivot_engines = grouped_engines.pivot(index=\"Plane\", columns=\"Number.of.Engines\", values=\"accident_count\").fillna(0)\n",
    "\n",
    "# Reorder the rows to match the order of your top10_survival list.\n",
    "pivot_engines = pivot_engines.reindex(top20_planes)\n",
    "\n",
    "# Plot a stacked bar chart\n",
    "plt.figure(figsize=(12,7))\n",
    "pivot_engines.plot(kind=\"bar\", stacked=True, figsize=(12,7))\n",
    "plt.xlabel(\"Plane (Make and Model)\")\n",
    "plt.ylabel(\"Accident Count\")\n",
    "plt.title(\"Accident Counts by Number of Engines for Top 20 Planes by Survival Rate\")\n",
    "plt.xticks(rotation=45, ha=\"right\")\n",
    "plt.tight_layout()\n",
    "plt.show()\n"
   ]
  },
  {
   "cell_type": "markdown",
   "metadata": {},
   "source": [
    "### Time Trend Analysis"
   ]
  },
  {
   "cell_type": "markdown",
   "metadata": {},
   "source": [
    "This was done to look at the trend of no of accident that occurred over the years and to notice if there was anything noticeable.\n",
    "There was a large increase spike in accident count after 1980 but onward from there there has seen a downward decline with slight uptake but the trend seems to going on the downward spiral which is a nice indicator on safety status increasing."
   ]
  },
  {
   "cell_type": "code",
   "execution_count": 103,
   "metadata": {},
   "outputs": [
    {
     "data": {
      "image/png": "[encoded data removed]",
      "text/plain": [
       "<Figure size 720x432 with 1 Axes>"
      ]
     },
     "metadata": {
      "needs_background": "light"
     },
     "output_type": "display_data"
    }
   ],
   "source": [
    "# Group data by Accident_Year and sum the accident_count\n",
    "accidents_by_year = data_df.groupby(\"Accident_Year\", as_index=False)[\"accident_count\"].sum()\n",
    "\n",
    "#Filter out values that are 0 otherwise uknown\n",
    "accidents_by_year = accidents_by_year[accidents_by_year[\"accident_count\"] > 0]\n",
    "accidents_by_year = accidents_by_year.sort_values(\"Accident_Year\")\n",
    "\n",
    "# Plot a time series line chart\n",
    "plt.figure(figsize=(10,6))\n",
    "plt.plot(accidents_by_year[\"Accident_Year\"], accidents_by_year[\"accident_count\"], marker='o', linestyle='-')\n",
    "plt.xlabel(\"Accident Year\")\n",
    "plt.ylabel(\"Total Accident Count\")\n",
    "plt.title(\"Accidents Over the Years\")\n",
    "plt.grid(True)\n",
    "plt.tight_layout()\n",
    "plt.show()\n"
   ]
  },
  {
   "cell_type": "markdown",
   "metadata": {},
   "source": [
    "## Conclusion"
   ]
  },
  {
   "cell_type": "markdown",
   "metadata": {},
   "source": [
    "The analysis yielded the following recommendations:\n",
    "\n",
    "   1. A top 20 list of possible planes that have very high survival rates that would offer low risk in the event of any incidents.\n",
    "   2. A metric for Flight Purposes with high accident counts that would offer high risk. This gives the company an opportunity to make a decision on the specific business/purpose of the aviation venture.\n",
    "   3. Provided with the phases of the flight process that had high accident counts this will allow for operations streamlining. Ensuring that the phases have proper safety checks and also increased training to ensure incidents do not occur.\n",
    "   4. Analysis also looked into the plane characteristics that appear dominantly in the top 20 list being: **Not** amateur built, **Turbo Fan** engine and one engine. this would offer a good criteria when undergoingthe plane acquisition process.\n",
    "   5. The time series plot shows a downward trend in the number of accidents that occurred. This shows a reduction in the risk factor for plane accidents and offers great projections as future advancements continue to come up."
   ]
  },
  {
   "cell_type": "markdown",
   "metadata": {},
   "source": [
    "### Next Step"
   ]
  },
  {
   "cell_type": "markdown",
   "metadata": {},
   "source": [
    "1. The need to analyse these data according to fiscal data meaning pricing, insurance, rents would help push the model to be able to come up with clear and consice acquisition model that would incoporate safety and also financial viability.\n",
    "2. It would also be advisable to look into the possible competitors to find info on possible income to find a risk-income tradeoff."
   ]
  },
  {
   "cell_type": "code",
   "execution_count": null,
   "metadata": {},
   "outputs": [],
   "source": []
  },
  {
   "cell_type": "code",
   "execution_count": null,
   "metadata": {},
   "outputs": [],
   "source": []
  },
  {
   "cell_type": "code",
   "execution_count": null,
   "metadata": {},
   "outputs": [],
   "source": []
  }
 ],
 "metadata": {
  "kernelspec": {
   "display_name": "Python (learn-env)",
   "language": "python",
   "name": "learn-env"
  },
  "language_info": {
   "codemirror_mode": {
    "name": "ipython",
    "version": 3
   },
   "file_extension": ".py",
   "mimetype": "text/x-python",
   "name": "python",
   "nbconvert_exporter": "python",
   "pygments_lexer": "ipython3",
   "version": "3.8.5"
  }
 },
 "nbformat": 4,
 "nbformat_minor": 2
}
